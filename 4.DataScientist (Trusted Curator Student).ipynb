{
 "cells": [
  {
   "cell_type": "markdown",
   "metadata": {
    "id": "zirEArSWc9Cq"
   },
   "source": [
    "This prototype shows the code for the Data Owner (Trusted Curator Teacher) to upload a dataset with the predictions and give access to a Data Scientist (Trusted Curator Student)\n",
    "\n",
    "First install syft, this will install the 0.6.0 version\n"
   ]
  },
  {
   "cell_type": "code",
   "execution_count": 1,
   "metadata": {
    "colab": {
     "base_uri": "https://localhost:8080/"
    },
    "id": "SwR7Ze8Qg4T0",
    "outputId": "92d3f723-5a17-4224-c959-b6ce01588883"
   },
   "outputs": [
    {
     "name": "stdout",
     "output_type": "stream",
     "text": [
      "Requirement already satisfied: syft in /usr/local/lib/python3.7/dist-packages (0.6.0)\n",
      "Requirement already satisfied: ascii-magic==1.6 in /usr/local/lib/python3.7/dist-packages (from syft) (1.6)\n",
      "Requirement already satisfied: requests==2.26.0 in /usr/local/lib/python3.7/dist-packages (from syft) (2.26.0)\n",
      "Requirement already satisfied: torch<=1.10.0,>=1.8.1 in /usr/local/lib/python3.7/dist-packages (from syft) (1.10.0+cu111)\n",
      "Requirement already satisfied: bcrypt==3.2.0 in /usr/local/lib/python3.7/dist-packages (from syft) (3.2.0)\n",
      "Requirement already satisfied: loguru==0.5.3 in /usr/local/lib/python3.7/dist-packages (from syft) (0.5.3)\n",
      "Requirement already satisfied: sympy==1.9 in /usr/local/lib/python3.7/dist-packages (from syft) (1.9)\n",
      "Requirement already satisfied: werkzeug==2.0.2 in /usr/local/lib/python3.7/dist-packages (from syft) (2.0.2)\n",
      "Requirement already satisfied: importlib-metadata==4.8.2 in /usr/local/lib/python3.7/dist-packages (from syft) (4.8.2)\n",
      "Requirement already satisfied: PyJWT==2.3.0 in /usr/local/lib/python3.7/dist-packages (from syft) (2.3.0)\n",
      "Requirement already satisfied: numpy==1.21.4 in /usr/local/lib/python3.7/dist-packages (from syft) (1.21.4)\n",
      "Requirement already satisfied: pymbolic==2021.1 in /usr/local/lib/python3.7/dist-packages (from syft) (2021.1)\n",
      "Requirement already satisfied: pandas==1.3.4 in /usr/local/lib/python3.7/dist-packages (from syft) (1.3.4)\n",
      "Requirement already satisfied: names==0.3.0 in /usr/local/lib/python3.7/dist-packages (from syft) (0.3.0)\n",
      "Requirement already satisfied: pyarrow==6.0.0 in /usr/local/lib/python3.7/dist-packages (from syft) (6.0.0)\n",
      "Requirement already satisfied: cachetools==4.2.4 in /usr/local/lib/python3.7/dist-packages (from syft) (4.2.4)\n",
      "Requirement already satisfied: forbiddenfruit==0.1.4 in /usr/local/lib/python3.7/dist-packages (from syft) (0.1.4)\n",
      "Requirement already satisfied: PyNaCl==1.4.0 in /usr/local/lib/python3.7/dist-packages (from syft) (1.4.0)\n",
      "Requirement already satisfied: protobuf==3.19.1 in /usr/local/lib/python3.7/dist-packages (from syft) (3.19.1)\n",
      "Requirement already satisfied: SQLAlchemy==1.4.27 in /usr/local/lib/python3.7/dist-packages (from syft) (1.4.27)\n",
      "Requirement already satisfied: typing-extensions==4.0.0 in /usr/local/lib/python3.7/dist-packages (from syft) (4.0.0)\n",
      "Requirement already satisfied: requests-toolbelt==0.9.1 in /usr/local/lib/python3.7/dist-packages (from syft) (0.9.1)\n",
      "Requirement already satisfied: packaging==21.2 in /usr/local/lib/python3.7/dist-packages (from syft) (21.2)\n",
      "Requirement already satisfied: pydantic[email]==1.8.2 in /usr/local/lib/python3.7/dist-packages (from syft) (1.8.2)\n",
      "Requirement already satisfied: autodp==0.2 in /usr/local/lib/python3.7/dist-packages (from syft) (0.2)\n",
      "Requirement already satisfied: gevent==21.8.0 in /usr/local/lib/python3.7/dist-packages (from syft) (21.8.0)\n",
      "Requirement already satisfied: tqdm==4.62.3 in /usr/local/lib/python3.7/dist-packages (from syft) (4.62.3)\n",
      "Requirement already satisfied: Pillow in /usr/local/lib/python3.7/dist-packages (from ascii-magic==1.6->syft) (7.1.2)\n",
      "Requirement already satisfied: colorama in /usr/local/lib/python3.7/dist-packages (from ascii-magic==1.6->syft) (0.4.4)\n",
      "Requirement already satisfied: scipy in /usr/local/lib/python3.7/dist-packages (from autodp==0.2->syft) (1.4.1)\n",
      "Requirement already satisfied: six>=1.4.1 in /usr/local/lib/python3.7/dist-packages (from bcrypt==3.2.0->syft) (1.15.0)\n",
      "Requirement already satisfied: cffi>=1.1 in /usr/local/lib/python3.7/dist-packages (from bcrypt==3.2.0->syft) (1.15.0)\n",
      "Requirement already satisfied: setuptools in /usr/local/lib/python3.7/dist-packages (from gevent==21.8.0->syft) (57.4.0)\n",
      "Requirement already satisfied: zope.interface in /usr/local/lib/python3.7/dist-packages (from gevent==21.8.0->syft) (5.4.0)\n",
      "Requirement already satisfied: zope.event in /usr/local/lib/python3.7/dist-packages (from gevent==21.8.0->syft) (4.5.0)\n",
      "Requirement already satisfied: greenlet<2.0,>=1.1.0 in /usr/local/lib/python3.7/dist-packages (from gevent==21.8.0->syft) (1.1.2)\n",
      "Requirement already satisfied: zipp>=0.5 in /usr/local/lib/python3.7/dist-packages (from importlib-metadata==4.8.2->syft) (3.7.0)\n",
      "Requirement already satisfied: pyparsing<3,>=2.0.2 in /usr/local/lib/python3.7/dist-packages (from packaging==21.2->syft) (2.4.7)\n",
      "Requirement already satisfied: pytz>=2017.3 in /usr/local/lib/python3.7/dist-packages (from pandas==1.3.4->syft) (2018.9)\n",
      "Requirement already satisfied: python-dateutil>=2.7.3 in /usr/local/lib/python3.7/dist-packages (from pandas==1.3.4->syft) (2.8.2)\n",
      "Requirement already satisfied: email-validator>=1.0.3 in /usr/local/lib/python3.7/dist-packages (from pydantic[email]==1.8.2->syft) (1.1.3)\n",
      "Requirement already satisfied: pytools>=2 in /usr/local/lib/python3.7/dist-packages (from pymbolic==2021.1->syft) (2022.1.1)\n",
      "Requirement already satisfied: pytest>=2.3 in /usr/local/lib/python3.7/dist-packages (from pymbolic==2021.1->syft) (3.6.4)\n",
      "Requirement already satisfied: urllib3<1.27,>=1.21.1 in /usr/local/lib/python3.7/dist-packages (from requests==2.26.0->syft) (1.24.3)\n",
      "Requirement already satisfied: idna<4,>=2.5 in /usr/local/lib/python3.7/dist-packages (from requests==2.26.0->syft) (2.10)\n",
      "Requirement already satisfied: charset-normalizer~=2.0.0 in /usr/local/lib/python3.7/dist-packages (from requests==2.26.0->syft) (2.0.12)\n",
      "Requirement already satisfied: certifi>=2017.4.17 in /usr/local/lib/python3.7/dist-packages (from requests==2.26.0->syft) (2021.10.8)\n",
      "Requirement already satisfied: mpmath>=0.19 in /usr/local/lib/python3.7/dist-packages (from sympy==1.9->syft) (1.2.1)\n",
      "Requirement already satisfied: pycparser in /usr/local/lib/python3.7/dist-packages (from cffi>=1.1->bcrypt==3.2.0->syft) (2.21)\n",
      "Requirement already satisfied: dnspython>=1.15.0 in /usr/local/lib/python3.7/dist-packages (from email-validator>=1.0.3->pydantic[email]==1.8.2->syft) (2.2.1)\n",
      "Requirement already satisfied: more-itertools>=4.0.0 in /usr/local/lib/python3.7/dist-packages (from pytest>=2.3->pymbolic==2021.1->syft) (8.12.0)\n",
      "Requirement already satisfied: py>=1.5.0 in /usr/local/lib/python3.7/dist-packages (from pytest>=2.3->pymbolic==2021.1->syft) (1.11.0)\n",
      "Requirement already satisfied: pluggy<0.8,>=0.5 in /usr/local/lib/python3.7/dist-packages (from pytest>=2.3->pymbolic==2021.1->syft) (0.7.1)\n",
      "Requirement already satisfied: atomicwrites>=1.0 in /usr/local/lib/python3.7/dist-packages (from pytest>=2.3->pymbolic==2021.1->syft) (1.4.0)\n",
      "Requirement already satisfied: attrs>=17.4.0 in /usr/local/lib/python3.7/dist-packages (from pytest>=2.3->pymbolic==2021.1->syft) (21.4.0)\n",
      "Requirement already satisfied: platformdirs>=2.2.0 in /usr/local/lib/python3.7/dist-packages (from pytools>=2->pymbolic==2021.1->syft) (2.5.1)\n"
     ]
    }
   ],
   "source": [
    "!pip install syft"
   ]
  },
  {
   "cell_type": "markdown",
   "metadata": {
    "id": "TuOZhllRd5tB"
   },
   "source": [
    "Import all the necessary dependencies"
   ]
  },
  {
   "cell_type": "markdown",
   "metadata": {
    "id": "A7LBM1Drm0R2"
   },
   "source": [
    "Now the Tusted Curator Student (DataScientist) will download the dataset"
   ]
  },
  {
   "cell_type": "markdown",
   "metadata": {
    "id": "zgjlw6-MfJAP"
   },
   "source": [
    "With de User and Password the Data Scientist log to the domain "
   ]
  },
  {
   "cell_type": "code",
   "execution_count": 2,
   "metadata": {
    "id": "hgFD3YN9y89M"
   },
   "outputs": [],
   "source": [
    "import syft as sy\n",
    "from google.colab import files\n",
    "import pandas as pd\n",
    "import numpy as np"
   ]
  },
  {
   "cell_type": "code",
   "execution_count": 5,
   "metadata": {
    "colab": {
     "base_uri": "https://localhost:8080/"
    },
    "id": "nRvYeAt2i-gu",
    "outputId": "45b0f0ee-ab06-46ab-fe47-2b31f9faa7ce"
   },
   "outputs": [
    {
     "name": "stdout",
     "output_type": "stream",
     "text": [
      "\r",
      "Connecting to http://ort.westus.cloudapp.azure.com:80... done! \t Logging into node... done!\n"
     ]
    }
   ],
   "source": [
    "# Logging into the domain as DS\n",
    "\n",
    "DOMAIN_URL2 =\"http://ort.westus.cloudapp.azure.com:80\"\n",
    "domain = sy.login(\n",
    "    url=DOMAIN_URL2,\n",
    "    email=\"jramas@gmail.com\",\n",
    "    password=\"orttest2\"\n",
    ")\n"
   ]
  },
  {
   "cell_type": "markdown",
   "metadata": {
    "id": "4yVjJ7O6f3IE"
   },
   "source": [
    "List the Dataset in order to check that it has been correctly created"
   ]
  },
  {
   "cell_type": "code",
   "execution_count": 6,
   "metadata": {
    "colab": {
     "base_uri": "https://localhost:8080/",
     "height": 500
    },
    "id": "CCRIfgyWvlRO",
    "outputId": "c485004d-4dbd-4e6c-f7b0-4b75319d84e7"
   },
   "outputs": [
    {
     "data": {
      "text/html": [
       "<style>\n",
       "                #myInput {\n",
       "                  background-position: 10px 12px; /* Position the search icon */\n",
       "                  background-repeat: no-repeat; /* Do not repeat the icon image */\n",
       "                  background-color: #bbb;\n",
       "                  width: 98%; /* Full-width */\n",
       "                  font-size: 14px; /* Increase font-size */\n",
       "                  padding: 12px 20px 12px 40px; /* Add some padding */\n",
       "                  border: 1px solid #ddd; /* Add a grey border */\n",
       "                  margin-bottom: 12px; /* Add some space below the input */\n",
       "                }\n",
       "\n",
       "                #myTable {\n",
       "                  border-collapse: collapse; /* Collapse borders */\n",
       "                  width: 100%; /* Full-width */\n",
       "                  border: 1px solid #ddd; /* Add a grey border */\n",
       "                  font-size: 14px; /* Increase font-size */\n",
       "                }\n",
       "\n",
       "                #myTable th, #myTable td {\n",
       "                  text-align: left; /* Left-align text */\n",
       "                  padding: 10px; /* Add padding */\n",
       "                }\n",
       "\n",
       "                #myTable tr {\n",
       "                  /* Add a bottom border to all table rows */\n",
       "                  border-bottom: 1px solid #ddd;\n",
       "                }\n",
       "\n",
       "                #myTable tr.header, #myTable tr:hover {\n",
       "                  /* Add a grey background color to the table header and on hover */\n",
       "                  background-color: #777;\n",
       "                }\n",
       "                </style>\n",
       "\n",
       "                <table id=\"myTable\" style=\"width:1000px\">\n",
       "                  <tr class=\"header\">\n",
       "                    <th style=\"width:30px\">Idx</th>\n",
       "                    <th style=\"width:20%;\">Name</th>\n",
       "                    <th style=\"width:35%;\">Description</th>\n",
       "                    <th style=\"width:20%;\">Assets</th>\n",
       "                    <th style=\"width:300px;\">Id</th>\n",
       "                  </tr>\n",
       "                \n",
       "\n",
       "          <tr>\n",
       "            <td>[0]</td>\n",
       "            <td>diabetes</td>\n",
       "            <td>Diabetes</td>\n",
       "            <td>[\"data\"] -> Tensor<br /><br /></td>\n",
       "            <td>7e4bbe12-5c78-48cd-84b8-e12afcdea299</td>\n",
       "          </tr>\n",
       "\n",
       "          <tr>\n",
       "            <td>[1]</td>\n",
       "            <td>diabetes</td>\n",
       "            <td>Diabetes</td>\n",
       "            <td>[\"data\"] -> Tensor<br /><br /></td>\n",
       "            <td>d4b8f7e9-f271-4958-bf20-17288625b05b</td>\n",
       "          </tr>\n",
       "\n",
       "          <tr>\n",
       "            <td>[2]</td>\n",
       "            <td>diabetes_train</td>\n",
       "            <td>Diabetes_Train</td>\n",
       "            <td>[\"data\"] -> Tensor<br /><br /></td>\n",
       "            <td>36458f8c-d23e-49de-85db-975e73c06486</td>\n",
       "          </tr>\n",
       "\n",
       "          <tr>\n",
       "            <td>[3]</td>\n",
       "            <td>diabetes_test</td>\n",
       "            <td>Diabetes_Test</td>\n",
       "            <td>[\"data\"] -> Tensor<br /><br /></td>\n",
       "            <td>15e21f33-b655-4345-8647-3362e77b6bb6</td>\n",
       "          </tr>\n",
       "\n",
       "          <tr>\n",
       "            <td>[4]</td>\n",
       "            <td>diabetes_train</td>\n",
       "            <td>Diabetes_Train</td>\n",
       "            <td>[\"data\"] -> Tensor<br /><br /></td>\n",
       "            <td>b8c06d05-61fe-422d-9fb2-515ba6c84206</td>\n",
       "          </tr>\n",
       "\n",
       "          <tr>\n",
       "            <td>[5]</td>\n",
       "            <td>diabetes_test</td>\n",
       "            <td>Diabetes_Test</td>\n",
       "            <td>[\"data\"] -> Tensor<br /><br /></td>\n",
       "            <td>33aba72f-ae41-4adc-ae8d-0a1d0dfa51c9</td>\n",
       "          </tr>\n",
       "\n",
       "          <tr>\n",
       "            <td>[6]</td>\n",
       "            <td>diabetes_prediccion</td>\n",
       "            <td>Diabetes_Prediccion</td>\n",
       "            <td>[\"data\"] -> Tensor<br /><br /></td>\n",
       "            <td>736c587c-b9b4-4a11-8ca9-ab41acdc4b7a</td>\n",
       "          </tr>\n",
       "\n",
       "          <tr>\n",
       "            <td>[7]</td>\n",
       "            <td>diabetes_prediccion</td>\n",
       "            <td>Diabetes_Prediccion</td>\n",
       "            <td>[\"data\"] -> Tensor<br /><br /></td>\n",
       "            <td>f353636a-0321-443e-bef4-446620223fea</td>\n",
       "          </tr>\n",
       "        </table>\n",
       "\n",
       "        <script>\n",
       "        function myFunction() {\n",
       "          // Declare variables\n",
       "          var input, filter, table, tr, td, i, txtValue;\n",
       "          input = document.getElementById(\"myInput\");\n",
       "          filter = input.value.toUpperCase();\n",
       "          table = document.getElementById(\"myTable\");\n",
       "          tr = table.getElementsByTagName(\"tr\");\n",
       "\n",
       "          // Loop through all table rows, and hide those who don't match the search query\n",
       "          for (i = 0; i < tr.length; i++) {\n",
       "            name_td = tr[i].getElementsByTagName(\"td\")[1];\n",
       "            desc_td = tr[i].getElementsByTagName(\"td\")[2];\n",
       "            asset_td = tr[i].getElementsByTagName(\"td\")[3];\n",
       "            id_td = tr[i].getElementsByTagName(\"td\")[4];\n",
       "            if (name_td || desc_td || asset_td || id_td) {\n",
       "              name_txtValue = name_td.textContent || name_td.innerText;\n",
       "              desc_txtValue = desc_td.textContent || name_td.innerText;\n",
       "              asset_txtValue = asset_td.textContent || name_td.innerText;\n",
       "              id_txtValue = id_td.textContent || name_td.innerText;\n",
       "              name_bool = name_txtValue.toUpperCase().indexOf(filter) > -1;\n",
       "              desc_bool = desc_txtValue.toUpperCase().indexOf(filter) > -1;\n",
       "              asset_bool = asset_txtValue.toUpperCase().indexOf(filter) > -1;\n",
       "              id_bool = id_txtValue.toUpperCase().indexOf(filter) > -1;\n",
       "              if (name_bool || desc_bool || asset_bool || id_bool) {\n",
       "                tr[i].style.display = \"\";\n",
       "              } else {\n",
       "                tr[i].style.display = \"none\";\n",
       "              }\n",
       "            }\n",
       "          }\n",
       "        }\n",
       "        </script>"
      ],
      "text/plain": [
       "<syft.core.node.common.client_manager.dataset_api.DatasetRequestAPI at 0x7f99cc3b5d10>"
      ]
     },
     "execution_count": 6,
     "metadata": {},
     "output_type": "execute_result"
    }
   ],
   "source": [
    "domain.datasets"
   ]
  },
  {
   "cell_type": "markdown",
   "metadata": {
    "id": "b3Ytq3IigS6D"
   },
   "source": [
    "Check the structure of the Dataset"
   ]
  },
  {
   "cell_type": "code",
   "execution_count": 7,
   "metadata": {
    "colab": {
     "base_uri": "https://localhost:8080/",
     "height": 149
    },
    "id": "j4IwrGOyxtmZ",
    "outputId": "2cdc9b32-88d0-4f09-865f-8429ad764edd"
   },
   "outputs": [
    {
     "name": "stdout",
     "output_type": "stream",
     "text": [
      "Dataset: diabetes_prediccion\n",
      "Description: Diabetes_Prediccion\n",
      "\n"
     ]
    },
    {
     "data": {
      "text/html": [
       "<style>\n",
       "        #myInput {\n",
       "          background-position: 10px 12px; /* Position the search icon */\n",
       "          background-repeat: no-repeat; /* Do not repeat the icon image */\n",
       "          background-color: #bbb;\n",
       "          width: 98%; /* Full-width */\n",
       "          font-size: 14px; /* Increase font-size */\n",
       "          padding: 12px 20px 12px 40px; /* Add some padding */\n",
       "          border: 1px solid #ddd; /* Add a grey border */\n",
       "          margin-bottom: 12px; /* Add some space below the input */\n",
       "        }\n",
       "\n",
       "        #myTable {\n",
       "          border-collapse: collapse; /* Collapse borders */\n",
       "          width: 50%; /* Full-width */\n",
       "          border: 1px solid #ddd; /* Add a grey border */\n",
       "          font-size: 14px; /* Increase font-size */\n",
       "        }\n",
       "\n",
       "        #myTable th, #myTable td {\n",
       "          text-align: left; /* Left-align text */\n",
       "          padding: 10px; /* Add padding */\n",
       "        }\n",
       "\n",
       "        #myTable tr {\n",
       "          /* Add a bottom border to all table rows */\n",
       "          border-bottom: 1px solid #ddd;\n",
       "        }\n",
       "\n",
       "        #myTable tr.header, #myTable tr:hover {\n",
       "          /* Add a grey background color to the table header and on hover */\n",
       "          background-color: #777;\n",
       "        }\n",
       "        </style>\n",
       "\n",
       "        <table id=\"myTable\">\n",
       "          <tr class=\"header\">\n",
       "            <th style=\"width:15%;\">Asset Key</th>\n",
       "            <th style=\"width:20%;\">Type</th>\n",
       "            <th style=\"width:10%;\">Shape</th>\n",
       "          </tr>\n",
       "        \n",
       "\n",
       "              <tr>\n",
       "            <td>[\"data\"]</td>\n",
       "            <td>Tensor</td>\n",
       "            <td>(231, 1, 1)</td>\n",
       "          </tr>\n",
       "        </table>\n",
       "\n",
       "        "
      ],
      "text/plain": [
       "<syft.core.node.common.client_manager.dataset_api.Dataset at 0x7f99c95d1450>"
      ]
     },
     "execution_count": 7,
     "metadata": {},
     "output_type": "execute_result"
    }
   ],
   "source": [
    "domain.datasets[7]"
   ]
  },
  {
   "cell_type": "markdown",
   "metadata": {
    "id": "DIRiadtSgq_g"
   },
   "source": [
    "In this case, the information is storage as a variable called \"mydata\" "
   ]
  },
  {
   "cell_type": "code",
   "execution_count": 8,
   "metadata": {
    "id": "-0vzE7Q1zEUm"
   },
   "outputs": [],
   "source": [
    "mydata = domain.datasets[7]"
   ]
  },
  {
   "cell_type": "markdown",
   "metadata": {
    "id": "d4jKjlWlhxGJ"
   },
   "source": [
    "Lets check \"mydata\""
   ]
  },
  {
   "cell_type": "code",
   "execution_count": 9,
   "metadata": {
    "colab": {
     "base_uri": "https://localhost:8080/",
     "height": 149
    },
    "id": "KEAyKEm7zbT4",
    "outputId": "ca0358b5-5d2a-4f8c-9b3a-c7f300c888a4"
   },
   "outputs": [
    {
     "name": "stdout",
     "output_type": "stream",
     "text": [
      "Dataset: diabetes_prediccion\n",
      "Description: Diabetes_Prediccion\n",
      "\n"
     ]
    },
    {
     "data": {
      "text/html": [
       "<style>\n",
       "        #myInput {\n",
       "          background-position: 10px 12px; /* Position the search icon */\n",
       "          background-repeat: no-repeat; /* Do not repeat the icon image */\n",
       "          background-color: #bbb;\n",
       "          width: 98%; /* Full-width */\n",
       "          font-size: 14px; /* Increase font-size */\n",
       "          padding: 12px 20px 12px 40px; /* Add some padding */\n",
       "          border: 1px solid #ddd; /* Add a grey border */\n",
       "          margin-bottom: 12px; /* Add some space below the input */\n",
       "        }\n",
       "\n",
       "        #myTable {\n",
       "          border-collapse: collapse; /* Collapse borders */\n",
       "          width: 50%; /* Full-width */\n",
       "          border: 1px solid #ddd; /* Add a grey border */\n",
       "          font-size: 14px; /* Increase font-size */\n",
       "        }\n",
       "\n",
       "        #myTable th, #myTable td {\n",
       "          text-align: left; /* Left-align text */\n",
       "          padding: 10px; /* Add padding */\n",
       "        }\n",
       "\n",
       "        #myTable tr {\n",
       "          /* Add a bottom border to all table rows */\n",
       "          border-bottom: 1px solid #ddd;\n",
       "        }\n",
       "\n",
       "        #myTable tr.header, #myTable tr:hover {\n",
       "          /* Add a grey background color to the table header and on hover */\n",
       "          background-color: #777;\n",
       "        }\n",
       "        </style>\n",
       "\n",
       "        <table id=\"myTable\">\n",
       "          <tr class=\"header\">\n",
       "            <th style=\"width:15%;\">Asset Key</th>\n",
       "            <th style=\"width:20%;\">Type</th>\n",
       "            <th style=\"width:10%;\">Shape</th>\n",
       "          </tr>\n",
       "        \n",
       "\n",
       "              <tr>\n",
       "            <td>[\"data\"]</td>\n",
       "            <td>Tensor</td>\n",
       "            <td>(231, 1, 1)</td>\n",
       "          </tr>\n",
       "        </table>\n",
       "\n",
       "        "
      ],
      "text/plain": [
       "<syft.core.node.common.client_manager.dataset_api.Dataset at 0x7f99c9718710>"
      ]
     },
     "execution_count": 9,
     "metadata": {},
     "output_type": "execute_result"
    }
   ],
   "source": [
    "mydata"
   ]
  },
  {
   "cell_type": "code",
   "execution_count": 10,
   "metadata": {
    "colab": {
     "base_uri": "https://localhost:8080/"
    },
    "id": "ikkP9ha7z3m0",
    "outputId": "147fb6e6-240a-4001-be44-fe11759228a6"
   },
   "outputs": [
    {
     "data": {
      "text/plain": [
       "<TensorPointer -> node:4242a88d43ba43199bd1b646c308a291>"
      ]
     },
     "execution_count": 10,
     "metadata": {},
     "output_type": "execute_result"
    }
   ],
   "source": [
    "mydata[\"data\"]"
   ]
  },
  {
   "cell_type": "markdown",
   "metadata": {
    "id": "wEJ_a3uHiI5e"
   },
   "source": [
    "if the Data Scientist try to download the dataset pysyft protect the information and give the following message \"You do not have permission to .get()\""
   ]
  },
  {
   "cell_type": "code",
   "execution_count": 11,
   "metadata": {
    "id": "N6OYeUcI0IKr"
   },
   "outputs": [],
   "source": [
    "ptr = domain.datasets[7][\"data\"]"
   ]
  },
  {
   "cell_type": "markdown",
   "metadata": {
    "id": "5J3Bq00iipsm"
   },
   "source": [
    "Pysyft allow to request permission and give a reason to the Data Owner "
   ]
  },
  {
   "cell_type": "code",
   "execution_count": 12,
   "metadata": {
    "colab": {
     "base_uri": "https://localhost:8080/",
     "height": 383
    },
    "id": "SJmXTFc87QCU",
    "outputId": "bfe4d918-f334-4c69-9549-b73e2f0b879f"
   },
   "outputs": [
    {
     "name": "stderr",
     "output_type": "stream",
     "text": [
      "[2022-03-14T00:36:13.656105+0000][CRITICAL][logger]][1642] You do not have permission to .get() Object with ID: <UID: 4242a88d43ba43199bd1b646c308a291> on node node Please submit a request.\n"
     ]
    },
    {
     "ename": "AuthorizationException",
     "evalue": "ignored",
     "output_type": "error",
     "traceback": [
      "\u001b[0;31m---------------------------------------------------------------------------\u001b[0m",
      "\u001b[0;31mAuthorizationException\u001b[0m                    Traceback (most recent call last)",
      "\u001b[0;32m<ipython-input-12-3626aaf6d124>\u001b[0m in \u001b[0;36m<module>\u001b[0;34m()\u001b[0m\n\u001b[0;32m----> 1\u001b[0;31m \u001b[0mdata_tensor\u001b[0m \u001b[0;34m=\u001b[0m \u001b[0mptr\u001b[0m\u001b[0;34m.\u001b[0m\u001b[0mget\u001b[0m\u001b[0;34m(\u001b[0m\u001b[0;34m)\u001b[0m\u001b[0;34m\u001b[0m\u001b[0;34m\u001b[0m\u001b[0m\n\u001b[0m",
      "\u001b[0;32m/usr/local/lib/python3.7/dist-packages/syft/core/pointer/pointer.py\u001b[0m in \u001b[0;36mget\u001b[0;34m(self, request_block, timeout_secs, reason, delete_obj, verbose)\u001b[0m\n\u001b[1;32m    342\u001b[0m \u001b[0;34m\u001b[0m\u001b[0m\n\u001b[1;32m    343\u001b[0m         \u001b[0;32mif\u001b[0m \u001b[0;32mnot\u001b[0m \u001b[0mrequest_block\u001b[0m\u001b[0;34m:\u001b[0m\u001b[0;34m\u001b[0m\u001b[0;34m\u001b[0m\u001b[0m\n\u001b[0;32m--> 344\u001b[0;31m             \u001b[0mresult\u001b[0m \u001b[0;34m=\u001b[0m \u001b[0mself\u001b[0m\u001b[0;34m.\u001b[0m\u001b[0m_get\u001b[0m\u001b[0;34m(\u001b[0m\u001b[0mdelete_obj\u001b[0m\u001b[0;34m=\u001b[0m\u001b[0mdelete_obj\u001b[0m\u001b[0;34m,\u001b[0m \u001b[0mverbose\u001b[0m\u001b[0;34m=\u001b[0m\u001b[0mverbose\u001b[0m\u001b[0;34m)\u001b[0m\u001b[0;34m\u001b[0m\u001b[0;34m\u001b[0m\u001b[0m\n\u001b[0m\u001b[1;32m    345\u001b[0m         \u001b[0;32melse\u001b[0m\u001b[0;34m:\u001b[0m\u001b[0;34m\u001b[0m\u001b[0;34m\u001b[0m\u001b[0m\n\u001b[1;32m    346\u001b[0m             response_status = self.request(\n",
      "\u001b[0;32m/usr/local/lib/python3.7/dist-packages/syft/core/pointer/pointer.py\u001b[0m in \u001b[0;36m_get\u001b[0;34m(self, delete_obj, verbose)\u001b[0m\n\u001b[1;32m    211\u001b[0m         )\n\u001b[1;32m    212\u001b[0m \u001b[0;34m\u001b[0m\u001b[0m\n\u001b[0;32m--> 213\u001b[0;31m         \u001b[0mobj\u001b[0m \u001b[0;34m=\u001b[0m \u001b[0mself\u001b[0m\u001b[0;34m.\u001b[0m\u001b[0mclient\u001b[0m\u001b[0;34m.\u001b[0m\u001b[0msend_immediate_msg_with_reply\u001b[0m\u001b[0;34m(\u001b[0m\u001b[0mmsg\u001b[0m\u001b[0;34m=\u001b[0m\u001b[0mobj_msg\u001b[0m\u001b[0;34m)\u001b[0m\u001b[0;34m.\u001b[0m\u001b[0mdata\u001b[0m\u001b[0;34m\u001b[0m\u001b[0;34m\u001b[0m\u001b[0m\n\u001b[0m\u001b[1;32m    214\u001b[0m         \u001b[0;32mif\u001b[0m \u001b[0mself\u001b[0m\u001b[0;34m.\u001b[0m\u001b[0mis_enum\u001b[0m\u001b[0;34m:\u001b[0m\u001b[0;34m\u001b[0m\u001b[0;34m\u001b[0m\u001b[0m\n\u001b[1;32m    215\u001b[0m             \u001b[0menum_class\u001b[0m \u001b[0;34m=\u001b[0m \u001b[0mself\u001b[0m\u001b[0;34m.\u001b[0m\u001b[0mclient\u001b[0m\u001b[0;34m.\u001b[0m\u001b[0mlib_ast\u001b[0m\u001b[0;34m.\u001b[0m\u001b[0mquery\u001b[0m\u001b[0;34m(\u001b[0m\u001b[0mself\u001b[0m\u001b[0;34m.\u001b[0m\u001b[0mpath_and_name\u001b[0m\u001b[0;34m)\u001b[0m\u001b[0;34m.\u001b[0m\u001b[0mobject_ref\u001b[0m\u001b[0;34m\u001b[0m\u001b[0;34m\u001b[0m\u001b[0m\n",
      "\u001b[0;32m/usr/local/lib/python3.7/dist-packages/syft/core/node/common/client.py\u001b[0m in \u001b[0;36msend_immediate_msg_with_reply\u001b[0;34m(self, msg, route_index, timeout)\u001b[0m\n\u001b[1;32m    243\u001b[0m                 \u001b[0mexception\u001b[0m \u001b[0;34m=\u001b[0m \u001b[0mexception_msg\u001b[0m\u001b[0;34m.\u001b[0m\u001b[0mexception_type\u001b[0m\u001b[0;34m(\u001b[0m\u001b[0mexception_msg\u001b[0m\u001b[0;34m.\u001b[0m\u001b[0mexception_msg\u001b[0m\u001b[0;34m)\u001b[0m\u001b[0;34m\u001b[0m\u001b[0;34m\u001b[0m\u001b[0m\n\u001b[1;32m    244\u001b[0m                 \u001b[0merror\u001b[0m\u001b[0;34m(\u001b[0m\u001b[0mstr\u001b[0m\u001b[0;34m(\u001b[0m\u001b[0mexception\u001b[0m\u001b[0;34m)\u001b[0m\u001b[0;34m)\u001b[0m\u001b[0;34m\u001b[0m\u001b[0;34m\u001b[0m\u001b[0m\n\u001b[0;32m--> 245\u001b[0;31m                 \u001b[0mtraceback_and_raise\u001b[0m\u001b[0;34m(\u001b[0m\u001b[0mexception\u001b[0m\u001b[0;34m)\u001b[0m\u001b[0;34m\u001b[0m\u001b[0;34m\u001b[0m\u001b[0m\n\u001b[0m\u001b[1;32m    246\u001b[0m             \u001b[0;32melse\u001b[0m\u001b[0;34m:\u001b[0m\u001b[0;34m\u001b[0m\u001b[0;34m\u001b[0m\u001b[0m\n\u001b[1;32m    247\u001b[0m                 \u001b[0;32mreturn\u001b[0m \u001b[0mresponse\u001b[0m\u001b[0;34m.\u001b[0m\u001b[0mmessage\u001b[0m\u001b[0;34m\u001b[0m\u001b[0;34m\u001b[0m\u001b[0m\n",
      "\u001b[0;32m/usr/local/lib/python3.7/dist-packages/syft/logger.py\u001b[0m in \u001b[0;36mtraceback_and_raise\u001b[0;34m(e, verbose)\u001b[0m\n\u001b[1;32m     68\u001b[0m     \u001b[0;32mif\u001b[0m \u001b[0;32mnot\u001b[0m \u001b[0missubclass\u001b[0m\u001b[0;34m(\u001b[0m\u001b[0mtype\u001b[0m\u001b[0;34m(\u001b[0m\u001b[0me\u001b[0m\u001b[0;34m)\u001b[0m\u001b[0;34m,\u001b[0m \u001b[0mException\u001b[0m\u001b[0;34m)\u001b[0m\u001b[0;34m:\u001b[0m\u001b[0;34m\u001b[0m\u001b[0;34m\u001b[0m\u001b[0m\n\u001b[1;32m     69\u001b[0m         \u001b[0me\u001b[0m \u001b[0;34m=\u001b[0m \u001b[0mException\u001b[0m\u001b[0;34m(\u001b[0m\u001b[0me\u001b[0m\u001b[0;34m)\u001b[0m\u001b[0;34m\u001b[0m\u001b[0;34m\u001b[0m\u001b[0m\n\u001b[0;32m---> 70\u001b[0;31m     \u001b[0;32mraise\u001b[0m \u001b[0me\u001b[0m\u001b[0;34m\u001b[0m\u001b[0;34m\u001b[0m\u001b[0m\n\u001b[0m\u001b[1;32m     71\u001b[0m \u001b[0;34m\u001b[0m\u001b[0m\n\u001b[1;32m     72\u001b[0m \u001b[0;34m\u001b[0m\u001b[0m\n",
      "\u001b[0;31mAuthorizationException\u001b[0m: You do not have permission to .get() Object with ID: <UID: 4242a88d43ba43199bd1b646c308a291> on node node Please submit a request."
     ]
    }
   ],
   "source": [
    "data_tensor = ptr.get()"
   ]
  },
  {
   "cell_type": "code",
   "execution_count": 13,
   "metadata": {
    "id": "K98BlK966-Mx"
   },
   "outputs": [],
   "source": [
    "ptr.request(reason=\"para ver la prediccion\")"
   ]
  },
  {
   "cell_type": "markdown",
   "metadata": {
    "id": "8nkxUR2xjDRB"
   },
   "source": [
    "Lets check the request "
   ]
  },
  {
   "cell_type": "code",
   "execution_count": 14,
   "metadata": {
    "colab": {
     "base_uri": "https://localhost:8080/",
     "height": 577
    },
    "id": "vngJeMfs6rpZ",
    "outputId": "99d3b622-ae9a-4ffe-be9a-603e073d26ea"
   },
   "outputs": [
    {
     "data": {
      "text/html": [
       "<div>\n",
       "<style scoped>\n",
       "    .dataframe tbody tr th:only-of-type {\n",
       "        vertical-align: middle;\n",
       "    }\n",
       "\n",
       "    .dataframe tbody tr th {\n",
       "        vertical-align: top;\n",
       "    }\n",
       "\n",
       "    .dataframe thead th {\n",
       "        text-align: right;\n",
       "    }\n",
       "</style>\n",
       "<table border=\"1\" class=\"dataframe\">\n",
       "  <thead>\n",
       "    <tr style=\"text-align: right;\">\n",
       "      <th></th>\n",
       "      <th>Name</th>\n",
       "      <th>Email</th>\n",
       "      <th>Role</th>\n",
       "      <th>Request Type</th>\n",
       "      <th>Status</th>\n",
       "      <th>Reason</th>\n",
       "      <th>Request ID</th>\n",
       "      <th>Requested Object's ID</th>\n",
       "      <th>Requested Object's tags</th>\n",
       "      <th>Requested Budget</th>\n",
       "      <th>Current Budget</th>\n",
       "    </tr>\n",
       "  </thead>\n",
       "  <tbody>\n",
       "    <tr>\n",
       "      <th>0</th>\n",
       "      <td>test2</td>\n",
       "      <td>jramas@gmail.com</td>\n",
       "      <td>Data Scientist</td>\n",
       "      <td>DATA</td>\n",
       "      <td>denied</td>\n",
       "      <td></td>\n",
       "      <td>&lt;UID: f64a5d52305540c48d01fb755b7d4f0b&gt;</td>\n",
       "      <td>&lt;UID: 61fc06f9aacb4a12b3a2a56fcacb186b&gt;</td>\n",
       "      <td>[#data, __len__]</td>\n",
       "      <td>None</td>\n",
       "      <td>None</td>\n",
       "    </tr>\n",
       "    <tr>\n",
       "      <th>1</th>\n",
       "      <td>test2</td>\n",
       "      <td>jramas@gmail.com</td>\n",
       "      <td>Data Scientist</td>\n",
       "      <td>DATA</td>\n",
       "      <td>denied</td>\n",
       "      <td></td>\n",
       "      <td>&lt;UID: 1d22e0d181ff43cb880f60360290ef7e&gt;</td>\n",
       "      <td>&lt;UID: d2cb6f596f7045ae88b1020395cdd29f&gt;</td>\n",
       "      <td>[#data, __len__]</td>\n",
       "      <td>None</td>\n",
       "      <td>None</td>\n",
       "    </tr>\n",
       "    <tr>\n",
       "      <th>2</th>\n",
       "      <td>test2</td>\n",
       "      <td>jramas@gmail.com</td>\n",
       "      <td>Data Scientist</td>\n",
       "      <td>DATA</td>\n",
       "      <td>pending</td>\n",
       "      <td></td>\n",
       "      <td>&lt;UID: d7eae0de20aa4e029fd4b6bc34eacc34&gt;</td>\n",
       "      <td>&lt;UID: 5fa97396e18641568ba83f9e021819f1&gt;</td>\n",
       "      <td>[#data, __len__]</td>\n",
       "      <td>None</td>\n",
       "      <td>None</td>\n",
       "    </tr>\n",
       "    <tr>\n",
       "      <th>3</th>\n",
       "      <td>test2</td>\n",
       "      <td>jramas@gmail.com</td>\n",
       "      <td>Data Scientist</td>\n",
       "      <td>DATA</td>\n",
       "      <td>pending</td>\n",
       "      <td></td>\n",
       "      <td>&lt;UID: 57482cd372174a6cba95406ba3085c7e&gt;</td>\n",
       "      <td>&lt;UID: 022aa6def8734953938906b352c8c40d&gt;</td>\n",
       "      <td>[#data, __len__]</td>\n",
       "      <td>None</td>\n",
       "      <td>None</td>\n",
       "    </tr>\n",
       "    <tr>\n",
       "      <th>4</th>\n",
       "      <td>test2</td>\n",
       "      <td>jramas@gmail.com</td>\n",
       "      <td>Data Scientist</td>\n",
       "      <td>DATA</td>\n",
       "      <td>accepted</td>\n",
       "      <td>Para salvar la tesis</td>\n",
       "      <td>&lt;UID: d6910261c49b48179b15234795caed3d&gt;</td>\n",
       "      <td>&lt;UID: ed661f6653674ced9463a85aea01c9c5&gt;</td>\n",
       "      <td>[#data]</td>\n",
       "      <td>None</td>\n",
       "      <td>None</td>\n",
       "    </tr>\n",
       "    <tr>\n",
       "      <th>5</th>\n",
       "      <td>test2</td>\n",
       "      <td>jramas@gmail.com</td>\n",
       "      <td>Data Scientist</td>\n",
       "      <td>DATA</td>\n",
       "      <td>pending</td>\n",
       "      <td></td>\n",
       "      <td>&lt;UID: 3d429fca4da6446a9f141e0f8977a5d2&gt;</td>\n",
       "      <td>&lt;UID: e0a5843a6b9a47f3bd14cc69a4883cfe&gt;</td>\n",
       "      <td>[#data, __len__]</td>\n",
       "      <td>None</td>\n",
       "      <td>None</td>\n",
       "    </tr>\n",
       "    <tr>\n",
       "      <th>6</th>\n",
       "      <td>test2</td>\n",
       "      <td>jramas@gmail.com</td>\n",
       "      <td>Data Scientist</td>\n",
       "      <td>DATA</td>\n",
       "      <td>pending</td>\n",
       "      <td></td>\n",
       "      <td>&lt;UID: 0187881026ce46b28926c3244ab4c3c8&gt;</td>\n",
       "      <td>&lt;UID: 20874413bff24ef1a9be84e39025fa96&gt;</td>\n",
       "      <td>[#data, __len__]</td>\n",
       "      <td>None</td>\n",
       "      <td>None</td>\n",
       "    </tr>\n",
       "    <tr>\n",
       "      <th>7</th>\n",
       "      <td>test2</td>\n",
       "      <td>jramas@gmail.com</td>\n",
       "      <td>Data Scientist</td>\n",
       "      <td>DATA</td>\n",
       "      <td>pending</td>\n",
       "      <td></td>\n",
       "      <td>&lt;UID: db990a5d0e874f16a5071db82cf4d40f&gt;</td>\n",
       "      <td>&lt;UID: 8804271b4c484708a2d2642a6d642241&gt;</td>\n",
       "      <td>[#data, __len__]</td>\n",
       "      <td>None</td>\n",
       "      <td>None</td>\n",
       "    </tr>\n",
       "    <tr>\n",
       "      <th>8</th>\n",
       "      <td>test2</td>\n",
       "      <td>jramas@gmail.com</td>\n",
       "      <td>Data Scientist</td>\n",
       "      <td>DATA</td>\n",
       "      <td>accepted</td>\n",
       "      <td>para ver la prediccion</td>\n",
       "      <td>&lt;UID: f72e6230604444b29a70ca7e42cbf227&gt;</td>\n",
       "      <td>&lt;UID: 4242a88d43ba43199bd1b646c308a291&gt;</td>\n",
       "      <td>[#data]</td>\n",
       "      <td>None</td>\n",
       "      <td>None</td>\n",
       "    </tr>\n",
       "  </tbody>\n",
       "</table>\n",
       "</div>"
      ],
      "text/plain": [
       "[<RequestMessage: f64a5d52305540c48d01fb755b7d4f0b>, <RequestMessage: 1d22e0d181ff43cb880f60360290ef7e>, <RequestMessage: d7eae0de20aa4e029fd4b6bc34eacc34>, <RequestMessage: 57482cd372174a6cba95406ba3085c7e>, <RequestMessage: d6910261c49b48179b15234795caed3d>, <RequestMessage: 3d429fca4da6446a9f141e0f8977a5d2>, <RequestMessage: 0187881026ce46b28926c3244ab4c3c8>, <RequestMessage: db990a5d0e874f16a5071db82cf4d40f>, <RequestMessage: f72e6230604444b29a70ca7e42cbf227>]"
      ]
     },
     "execution_count": 14,
     "metadata": {},
     "output_type": "execute_result"
    }
   ],
   "source": [
    "domain.requests"
   ]
  },
  {
   "cell_type": "markdown",
   "metadata": {
    "id": "GhEADWILjJFw"
   },
   "source": [
    "With the request accepted by the Data Owner (Trusted Curator Teacher), the Data Scientist has the possibilty to download the information"
   ]
  },
  {
   "cell_type": "code",
   "execution_count": 15,
   "metadata": {
    "id": "RcKm7BBv1W-B"
   },
   "outputs": [],
   "source": [
    "data_tensor = ptr.get()"
   ]
  },
  {
   "cell_type": "markdown",
   "metadata": {
    "id": "nlhJoJlFja3L"
   },
   "source": [
    "Lets check the information downloaded"
   ]
  },
  {
   "cell_type": "code",
   "execution_count": 16,
   "metadata": {
    "colab": {
     "base_uri": "https://localhost:8080/"
    },
    "id": "pdPOLQXL7SPG",
    "outputId": "ef03b928-98e7-4407-8f0e-79d16253e69f"
   },
   "outputs": [
    {
     "data": {
      "text/plain": [
       "Tensor(child=RowEntityPhiTensor(child=[SingleEntityPhiTensor(entity=0, child=[[0]]), SingleEntityPhiTensor(entity=1, child=[[0]]), SingleEntityPhiTensor(entity=2, child=[[0]]), SingleEntityPhiTensor(entity=3, child=[[0]]), SingleEntityPhiTensor(entity=4, child=[[0]]), SingleEntityPhiTensor(entity=5, child=[[0]]), SingleEntityPhiTensor(entity=6, child=[[0]]), SingleEntityPhiTensor(entity=7, child=[[0]]), SingleEntityPhiTensor(entity=8, child=[[1]]), SingleEntityPhiTensor(entity=9, child=[[1]]), SingleEntityPhiTensor(entity=10, child=[[0]]), SingleEntityPhiTensor(entity=11, child=[[1]]), SingleEntityPhiTensor(entity=12, child=[[1]]), SingleEntityPhiTensor(entity=13, child=[[0]]), SingleEntityPhiTensor(entity=14, child=[[0]]), SingleEntityPhiTensor(entity=15, child=[[0]]), SingleEntityPhiTensor(entity=16, child=[[0]]), SingleEntityPhiTensor(entity=17, child=[[0]]), SingleEntityPhiTensor(entity=18, child=[[0]]), SingleEntityPhiTensor(entity=19, child=[[0]]), SingleEntityPhiTensor(entity=20, child=[[0]]), SingleEntityPhiTensor(entity=21, child=[[1]]), SingleEntityPhiTensor(entity=22, child=[[0]]), SingleEntityPhiTensor(entity=23, child=[[0]]), SingleEntityPhiTensor(entity=24, child=[[1]]), SingleEntityPhiTensor(entity=25, child=[[0]]), SingleEntityPhiTensor(entity=26, child=[[0]]), SingleEntityPhiTensor(entity=27, child=[[0]]), SingleEntityPhiTensor(entity=28, child=[[0]]), SingleEntityPhiTensor(entity=29, child=[[0]]), SingleEntityPhiTensor(entity=30, child=[[0]]), SingleEntityPhiTensor(entity=31, child=[[0]]), SingleEntityPhiTensor(entity=32, child=[[0]]), SingleEntityPhiTensor(entity=33, child=[[0]]), SingleEntityPhiTensor(entity=34, child=[[0]]), SingleEntityPhiTensor(entity=35, child=[[0]]), SingleEntityPhiTensor(entity=36, child=[[0]]), SingleEntityPhiTensor(entity=37, child=[[0]]), SingleEntityPhiTensor(entity=38, child=[[0]]), SingleEntityPhiTensor(entity=39, child=[[0]]), SingleEntityPhiTensor(entity=40, child=[[0]]), SingleEntityPhiTensor(entity=41, child=[[0]]), SingleEntityPhiTensor(entity=42, child=[[1]]), SingleEntityPhiTensor(entity=43, child=[[1]]), SingleEntityPhiTensor(entity=44, child=[[0]]), SingleEntityPhiTensor(entity=45, child=[[0]]), SingleEntityPhiTensor(entity=46, child=[[0]]), SingleEntityPhiTensor(entity=47, child=[[0]]), SingleEntityPhiTensor(entity=48, child=[[0]]), SingleEntityPhiTensor(entity=49, child=[[1]]), SingleEntityPhiTensor(entity=50, child=[[0]]), SingleEntityPhiTensor(entity=51, child=[[1]]), SingleEntityPhiTensor(entity=52, child=[[0]]), SingleEntityPhiTensor(entity=53, child=[[1]]), SingleEntityPhiTensor(entity=54, child=[[0]]), SingleEntityPhiTensor(entity=55, child=[[0]]), SingleEntityPhiTensor(entity=56, child=[[0]]), SingleEntityPhiTensor(entity=57, child=[[0]]), SingleEntityPhiTensor(entity=58, child=[[1]]), SingleEntityPhiTensor(entity=59, child=[[0]]), SingleEntityPhiTensor(entity=60, child=[[0]]), SingleEntityPhiTensor(entity=61, child=[[1]]), SingleEntityPhiTensor(entity=62, child=[[0]]), SingleEntityPhiTensor(entity=63, child=[[0]]), SingleEntityPhiTensor(entity=64, child=[[0]]), SingleEntityPhiTensor(entity=65, child=[[0]]), SingleEntityPhiTensor(entity=66, child=[[1]]), SingleEntityPhiTensor(entity=67, child=[[1]]), SingleEntityPhiTensor(entity=68, child=[[0]]), SingleEntityPhiTensor(entity=69, child=[[1]]), SingleEntityPhiTensor(entity=70, child=[[0]]), SingleEntityPhiTensor(entity=71, child=[[1]]), SingleEntityPhiTensor(entity=72, child=[[0]]), SingleEntityPhiTensor(entity=73, child=[[0]]), SingleEntityPhiTensor(entity=74, child=[[1]]), SingleEntityPhiTensor(entity=75, child=[[1]]), SingleEntityPhiTensor(entity=76, child=[[0]]), SingleEntityPhiTensor(entity=77, child=[[1]]), SingleEntityPhiTensor(entity=78, child=[[0]]), SingleEntityPhiTensor(entity=79, child=[[0]]), SingleEntityPhiTensor(entity=80, child=[[0]]), SingleEntityPhiTensor(entity=81, child=[[1]]), SingleEntityPhiTensor(entity=82, child=[[0]]), SingleEntityPhiTensor(entity=83, child=[[0]]), SingleEntityPhiTensor(entity=84, child=[[0]]), SingleEntityPhiTensor(entity=85, child=[[1]]), SingleEntityPhiTensor(entity=86, child=[[0]]), SingleEntityPhiTensor(entity=87, child=[[0]]), SingleEntityPhiTensor(entity=88, child=[[0]]), SingleEntityPhiTensor(entity=89, child=[[0]]), SingleEntityPhiTensor(entity=90, child=[[0]]), SingleEntityPhiTensor(entity=91, child=[[0]]), SingleEntityPhiTensor(entity=92, child=[[0]]), SingleEntityPhiTensor(entity=93, child=[[0]]), SingleEntityPhiTensor(entity=94, child=[[0]]), SingleEntityPhiTensor(entity=95, child=[[0]]), SingleEntityPhiTensor(entity=96, child=[[0]]), SingleEntityPhiTensor(entity=97, child=[[0]]), SingleEntityPhiTensor(entity=98, child=[[0]]), SingleEntityPhiTensor(entity=99, child=[[0]]), SingleEntityPhiTensor(entity=100, child=[[0]]), SingleEntityPhiTensor(entity=101, child=[[0]]), SingleEntityPhiTensor(entity=102, child=[[0]]), SingleEntityPhiTensor(entity=103, child=[[0]]), SingleEntityPhiTensor(entity=104, child=[[0]]), SingleEntityPhiTensor(entity=105, child=[[0]]), SingleEntityPhiTensor(entity=106, child=[[0]]), SingleEntityPhiTensor(entity=107, child=[[0]]), SingleEntityPhiTensor(entity=108, child=[[1]]), SingleEntityPhiTensor(entity=109, child=[[0]]), SingleEntityPhiTensor(entity=110, child=[[1]]), SingleEntityPhiTensor(entity=111, child=[[0]]), SingleEntityPhiTensor(entity=112, child=[[0]]), SingleEntityPhiTensor(entity=113, child=[[0]]), SingleEntityPhiTensor(entity=114, child=[[0]]), SingleEntityPhiTensor(entity=115, child=[[0]]), SingleEntityPhiTensor(entity=116, child=[[0]]), SingleEntityPhiTensor(entity=117, child=[[0]]), SingleEntityPhiTensor(entity=118, child=[[1]]), SingleEntityPhiTensor(entity=119, child=[[0]]), SingleEntityPhiTensor(entity=120, child=[[1]]), SingleEntityPhiTensor(entity=121, child=[[1]]), SingleEntityPhiTensor(entity=122, child=[[0]]), SingleEntityPhiTensor(entity=123, child=[[1]]), SingleEntityPhiTensor(entity=124, child=[[1]]), SingleEntityPhiTensor(entity=125, child=[[1]]), SingleEntityPhiTensor(entity=126, child=[[1]]), SingleEntityPhiTensor(entity=127, child=[[0]]), SingleEntityPhiTensor(entity=128, child=[[0]]), SingleEntityPhiTensor(entity=129, child=[[1]]), SingleEntityPhiTensor(entity=130, child=[[0]]), SingleEntityPhiTensor(entity=131, child=[[0]]), SingleEntityPhiTensor(entity=132, child=[[1]]), SingleEntityPhiTensor(entity=133, child=[[1]]), SingleEntityPhiTensor(entity=134, child=[[0]]), SingleEntityPhiTensor(entity=135, child=[[0]]), SingleEntityPhiTensor(entity=136, child=[[1]]), SingleEntityPhiTensor(entity=137, child=[[0]]), SingleEntityPhiTensor(entity=138, child=[[1]]), SingleEntityPhiTensor(entity=139, child=[[1]]), SingleEntityPhiTensor(entity=140, child=[[0]]), SingleEntityPhiTensor(entity=141, child=[[0]]), SingleEntityPhiTensor(entity=142, child=[[0]]), SingleEntityPhiTensor(entity=143, child=[[0]]), SingleEntityPhiTensor(entity=144, child=[[1]]), SingleEntityPhiTensor(entity=145, child=[[0]]), SingleEntityPhiTensor(entity=146, child=[[0]]), SingleEntityPhiTensor(entity=147, child=[[0]]), SingleEntityPhiTensor(entity=148, child=[[0]]), SingleEntityPhiTensor(entity=149, child=[[0]]), SingleEntityPhiTensor(entity=150, child=[[0]]), SingleEntityPhiTensor(entity=151, child=[[0]]), SingleEntityPhiTensor(entity=152, child=[[1]]), SingleEntityPhiTensor(entity=153, child=[[0]]), SingleEntityPhiTensor(entity=154, child=[[1]]), SingleEntityPhiTensor(entity=155, child=[[0]]), SingleEntityPhiTensor(entity=156, child=[[1]]), SingleEntityPhiTensor(entity=157, child=[[0]]), SingleEntityPhiTensor(entity=158, child=[[0]]), SingleEntityPhiTensor(entity=159, child=[[1]]), SingleEntityPhiTensor(entity=160, child=[[0]]), SingleEntityPhiTensor(entity=161, child=[[0]]), SingleEntityPhiTensor(entity=162, child=[[1]]), SingleEntityPhiTensor(entity=163, child=[[0]]), SingleEntityPhiTensor(entity=164, child=[[0]]), SingleEntityPhiTensor(entity=165, child=[[1]]), SingleEntityPhiTensor(entity=166, child=[[1]]), SingleEntityPhiTensor(entity=167, child=[[0]]), SingleEntityPhiTensor(entity=168, child=[[0]]), SingleEntityPhiTensor(entity=169, child=[[0]]), SingleEntityPhiTensor(entity=170, child=[[0]]), SingleEntityPhiTensor(entity=171, child=[[1]]), SingleEntityPhiTensor(entity=172, child=[[0]]), SingleEntityPhiTensor(entity=173, child=[[0]]), SingleEntityPhiTensor(entity=174, child=[[0]]), SingleEntityPhiTensor(entity=175, child=[[1]]), SingleEntityPhiTensor(entity=176, child=[[0]]), SingleEntityPhiTensor(entity=177, child=[[0]]), SingleEntityPhiTensor(entity=178, child=[[1]]), SingleEntityPhiTensor(entity=179, child=[[1]]), SingleEntityPhiTensor(entity=180, child=[[0]]), SingleEntityPhiTensor(entity=181, child=[[0]]), SingleEntityPhiTensor(entity=182, child=[[0]]), SingleEntityPhiTensor(entity=183, child=[[0]]), SingleEntityPhiTensor(entity=184, child=[[0]]), SingleEntityPhiTensor(entity=185, child=[[0]]), SingleEntityPhiTensor(entity=186, child=[[0]]), SingleEntityPhiTensor(entity=187, child=[[0]]), SingleEntityPhiTensor(entity=188, child=[[0]]), SingleEntityPhiTensor(entity=189, child=[[0]]), SingleEntityPhiTensor(entity=190, child=[[0]]), SingleEntityPhiTensor(entity=191, child=[[0]]), SingleEntityPhiTensor(entity=192, child=[[0]]), SingleEntityPhiTensor(entity=193, child=[[0]]), SingleEntityPhiTensor(entity=194, child=[[0]]), SingleEntityPhiTensor(entity=195, child=[[1]]), SingleEntityPhiTensor(entity=196, child=[[0]]), SingleEntityPhiTensor(entity=197, child=[[0]]), SingleEntityPhiTensor(entity=198, child=[[0]]), SingleEntityPhiTensor(entity=199, child=[[0]]), SingleEntityPhiTensor(entity=200, child=[[0]]), SingleEntityPhiTensor(entity=201, child=[[0]]), SingleEntityPhiTensor(entity=202, child=[[0]]), SingleEntityPhiTensor(entity=203, child=[[1]]), SingleEntityPhiTensor(entity=204, child=[[0]]), SingleEntityPhiTensor(entity=205, child=[[0]]), SingleEntityPhiTensor(entity=206, child=[[1]]), SingleEntityPhiTensor(entity=207, child=[[1]]), SingleEntityPhiTensor(entity=208, child=[[0]]), SingleEntityPhiTensor(entity=209, child=[[1]]), SingleEntityPhiTensor(entity=210, child=[[1]]), SingleEntityPhiTensor(entity=211, child=[[1]]), SingleEntityPhiTensor(entity=212, child=[[1]]), SingleEntityPhiTensor(entity=213, child=[[1]]), SingleEntityPhiTensor(entity=214, child=[[0]]), SingleEntityPhiTensor(entity=215, child=[[0]]), SingleEntityPhiTensor(entity=216, child=[[1]]), SingleEntityPhiTensor(entity=217, child=[[1]]), SingleEntityPhiTensor(entity=218, child=[[1]]), SingleEntityPhiTensor(entity=219, child=[[0]]), SingleEntityPhiTensor(entity=220, child=[[0]]), SingleEntityPhiTensor(entity=221, child=[[0]]), SingleEntityPhiTensor(entity=222, child=[[1]]), SingleEntityPhiTensor(entity=223, child=[[0]]), SingleEntityPhiTensor(entity=224, child=[[1]]), SingleEntityPhiTensor(entity=225, child=[[0]]), SingleEntityPhiTensor(entity=226, child=[[0]]), SingleEntityPhiTensor(entity=227, child=[[0]]), SingleEntityPhiTensor(entity=228, child=[[0]]), SingleEntityPhiTensor(entity=229, child=[[0]]), SingleEntityPhiTensor(entity=230, child=[[0]])]))"
      ]
     },
     "execution_count": 16,
     "metadata": {},
     "output_type": "execute_result"
    }
   ],
   "source": [
    "data_tensor"
   ]
  },
  {
   "cell_type": "code",
   "execution_count": 17,
   "metadata": {
    "colab": {
     "base_uri": "https://localhost:8080/"
    },
    "id": "rizMVzFB9LAU",
    "outputId": "05169d20-0847-4bbf-9c3f-d2e1a59a8ce5"
   },
   "outputs": [
    {
     "data": {
      "text/plain": [
       "[SingleEntityPhiTensor(entity=0, child=[[0]]),\n",
       " SingleEntityPhiTensor(entity=1, child=[[0]]),\n",
       " SingleEntityPhiTensor(entity=2, child=[[0]]),\n",
       " SingleEntityPhiTensor(entity=3, child=[[0]]),\n",
       " SingleEntityPhiTensor(entity=4, child=[[0]]),\n",
       " SingleEntityPhiTensor(entity=5, child=[[0]]),\n",
       " SingleEntityPhiTensor(entity=6, child=[[0]]),\n",
       " SingleEntityPhiTensor(entity=7, child=[[0]]),\n",
       " SingleEntityPhiTensor(entity=8, child=[[1]]),\n",
       " SingleEntityPhiTensor(entity=9, child=[[1]]),\n",
       " SingleEntityPhiTensor(entity=10, child=[[0]]),\n",
       " SingleEntityPhiTensor(entity=11, child=[[1]]),\n",
       " SingleEntityPhiTensor(entity=12, child=[[1]]),\n",
       " SingleEntityPhiTensor(entity=13, child=[[0]]),\n",
       " SingleEntityPhiTensor(entity=14, child=[[0]]),\n",
       " SingleEntityPhiTensor(entity=15, child=[[0]]),\n",
       " SingleEntityPhiTensor(entity=16, child=[[0]]),\n",
       " SingleEntityPhiTensor(entity=17, child=[[0]]),\n",
       " SingleEntityPhiTensor(entity=18, child=[[0]]),\n",
       " SingleEntityPhiTensor(entity=19, child=[[0]]),\n",
       " SingleEntityPhiTensor(entity=20, child=[[0]]),\n",
       " SingleEntityPhiTensor(entity=21, child=[[1]]),\n",
       " SingleEntityPhiTensor(entity=22, child=[[0]]),\n",
       " SingleEntityPhiTensor(entity=23, child=[[0]]),\n",
       " SingleEntityPhiTensor(entity=24, child=[[1]]),\n",
       " SingleEntityPhiTensor(entity=25, child=[[0]]),\n",
       " SingleEntityPhiTensor(entity=26, child=[[0]]),\n",
       " SingleEntityPhiTensor(entity=27, child=[[0]]),\n",
       " SingleEntityPhiTensor(entity=28, child=[[0]]),\n",
       " SingleEntityPhiTensor(entity=29, child=[[0]]),\n",
       " SingleEntityPhiTensor(entity=30, child=[[0]]),\n",
       " SingleEntityPhiTensor(entity=31, child=[[0]]),\n",
       " SingleEntityPhiTensor(entity=32, child=[[0]]),\n",
       " SingleEntityPhiTensor(entity=33, child=[[0]]),\n",
       " SingleEntityPhiTensor(entity=34, child=[[0]]),\n",
       " SingleEntityPhiTensor(entity=35, child=[[0]]),\n",
       " SingleEntityPhiTensor(entity=36, child=[[0]]),\n",
       " SingleEntityPhiTensor(entity=37, child=[[0]]),\n",
       " SingleEntityPhiTensor(entity=38, child=[[0]]),\n",
       " SingleEntityPhiTensor(entity=39, child=[[0]]),\n",
       " SingleEntityPhiTensor(entity=40, child=[[0]]),\n",
       " SingleEntityPhiTensor(entity=41, child=[[0]]),\n",
       " SingleEntityPhiTensor(entity=42, child=[[1]]),\n",
       " SingleEntityPhiTensor(entity=43, child=[[1]]),\n",
       " SingleEntityPhiTensor(entity=44, child=[[0]]),\n",
       " SingleEntityPhiTensor(entity=45, child=[[0]]),\n",
       " SingleEntityPhiTensor(entity=46, child=[[0]]),\n",
       " SingleEntityPhiTensor(entity=47, child=[[0]]),\n",
       " SingleEntityPhiTensor(entity=48, child=[[0]]),\n",
       " SingleEntityPhiTensor(entity=49, child=[[1]]),\n",
       " SingleEntityPhiTensor(entity=50, child=[[0]]),\n",
       " SingleEntityPhiTensor(entity=51, child=[[1]]),\n",
       " SingleEntityPhiTensor(entity=52, child=[[0]]),\n",
       " SingleEntityPhiTensor(entity=53, child=[[1]]),\n",
       " SingleEntityPhiTensor(entity=54, child=[[0]]),\n",
       " SingleEntityPhiTensor(entity=55, child=[[0]]),\n",
       " SingleEntityPhiTensor(entity=56, child=[[0]]),\n",
       " SingleEntityPhiTensor(entity=57, child=[[0]]),\n",
       " SingleEntityPhiTensor(entity=58, child=[[1]]),\n",
       " SingleEntityPhiTensor(entity=59, child=[[0]]),\n",
       " SingleEntityPhiTensor(entity=60, child=[[0]]),\n",
       " SingleEntityPhiTensor(entity=61, child=[[1]]),\n",
       " SingleEntityPhiTensor(entity=62, child=[[0]]),\n",
       " SingleEntityPhiTensor(entity=63, child=[[0]]),\n",
       " SingleEntityPhiTensor(entity=64, child=[[0]]),\n",
       " SingleEntityPhiTensor(entity=65, child=[[0]]),\n",
       " SingleEntityPhiTensor(entity=66, child=[[1]]),\n",
       " SingleEntityPhiTensor(entity=67, child=[[1]]),\n",
       " SingleEntityPhiTensor(entity=68, child=[[0]]),\n",
       " SingleEntityPhiTensor(entity=69, child=[[1]]),\n",
       " SingleEntityPhiTensor(entity=70, child=[[0]]),\n",
       " SingleEntityPhiTensor(entity=71, child=[[1]]),\n",
       " SingleEntityPhiTensor(entity=72, child=[[0]]),\n",
       " SingleEntityPhiTensor(entity=73, child=[[0]]),\n",
       " SingleEntityPhiTensor(entity=74, child=[[1]]),\n",
       " SingleEntityPhiTensor(entity=75, child=[[1]]),\n",
       " SingleEntityPhiTensor(entity=76, child=[[0]]),\n",
       " SingleEntityPhiTensor(entity=77, child=[[1]]),\n",
       " SingleEntityPhiTensor(entity=78, child=[[0]]),\n",
       " SingleEntityPhiTensor(entity=79, child=[[0]]),\n",
       " SingleEntityPhiTensor(entity=80, child=[[0]]),\n",
       " SingleEntityPhiTensor(entity=81, child=[[1]]),\n",
       " SingleEntityPhiTensor(entity=82, child=[[0]]),\n",
       " SingleEntityPhiTensor(entity=83, child=[[0]]),\n",
       " SingleEntityPhiTensor(entity=84, child=[[0]]),\n",
       " SingleEntityPhiTensor(entity=85, child=[[1]]),\n",
       " SingleEntityPhiTensor(entity=86, child=[[0]]),\n",
       " SingleEntityPhiTensor(entity=87, child=[[0]]),\n",
       " SingleEntityPhiTensor(entity=88, child=[[0]]),\n",
       " SingleEntityPhiTensor(entity=89, child=[[0]]),\n",
       " SingleEntityPhiTensor(entity=90, child=[[0]]),\n",
       " SingleEntityPhiTensor(entity=91, child=[[0]]),\n",
       " SingleEntityPhiTensor(entity=92, child=[[0]]),\n",
       " SingleEntityPhiTensor(entity=93, child=[[0]]),\n",
       " SingleEntityPhiTensor(entity=94, child=[[0]]),\n",
       " SingleEntityPhiTensor(entity=95, child=[[0]]),\n",
       " SingleEntityPhiTensor(entity=96, child=[[0]]),\n",
       " SingleEntityPhiTensor(entity=97, child=[[0]]),\n",
       " SingleEntityPhiTensor(entity=98, child=[[0]]),\n",
       " SingleEntityPhiTensor(entity=99, child=[[0]]),\n",
       " SingleEntityPhiTensor(entity=100, child=[[0]]),\n",
       " SingleEntityPhiTensor(entity=101, child=[[0]]),\n",
       " SingleEntityPhiTensor(entity=102, child=[[0]]),\n",
       " SingleEntityPhiTensor(entity=103, child=[[0]]),\n",
       " SingleEntityPhiTensor(entity=104, child=[[0]]),\n",
       " SingleEntityPhiTensor(entity=105, child=[[0]]),\n",
       " SingleEntityPhiTensor(entity=106, child=[[0]]),\n",
       " SingleEntityPhiTensor(entity=107, child=[[0]]),\n",
       " SingleEntityPhiTensor(entity=108, child=[[1]]),\n",
       " SingleEntityPhiTensor(entity=109, child=[[0]]),\n",
       " SingleEntityPhiTensor(entity=110, child=[[1]]),\n",
       " SingleEntityPhiTensor(entity=111, child=[[0]]),\n",
       " SingleEntityPhiTensor(entity=112, child=[[0]]),\n",
       " SingleEntityPhiTensor(entity=113, child=[[0]]),\n",
       " SingleEntityPhiTensor(entity=114, child=[[0]]),\n",
       " SingleEntityPhiTensor(entity=115, child=[[0]]),\n",
       " SingleEntityPhiTensor(entity=116, child=[[0]]),\n",
       " SingleEntityPhiTensor(entity=117, child=[[0]]),\n",
       " SingleEntityPhiTensor(entity=118, child=[[1]]),\n",
       " SingleEntityPhiTensor(entity=119, child=[[0]]),\n",
       " SingleEntityPhiTensor(entity=120, child=[[1]]),\n",
       " SingleEntityPhiTensor(entity=121, child=[[1]]),\n",
       " SingleEntityPhiTensor(entity=122, child=[[0]]),\n",
       " SingleEntityPhiTensor(entity=123, child=[[1]]),\n",
       " SingleEntityPhiTensor(entity=124, child=[[1]]),\n",
       " SingleEntityPhiTensor(entity=125, child=[[1]]),\n",
       " SingleEntityPhiTensor(entity=126, child=[[1]]),\n",
       " SingleEntityPhiTensor(entity=127, child=[[0]]),\n",
       " SingleEntityPhiTensor(entity=128, child=[[0]]),\n",
       " SingleEntityPhiTensor(entity=129, child=[[1]]),\n",
       " SingleEntityPhiTensor(entity=130, child=[[0]]),\n",
       " SingleEntityPhiTensor(entity=131, child=[[0]]),\n",
       " SingleEntityPhiTensor(entity=132, child=[[1]]),\n",
       " SingleEntityPhiTensor(entity=133, child=[[1]]),\n",
       " SingleEntityPhiTensor(entity=134, child=[[0]]),\n",
       " SingleEntityPhiTensor(entity=135, child=[[0]]),\n",
       " SingleEntityPhiTensor(entity=136, child=[[1]]),\n",
       " SingleEntityPhiTensor(entity=137, child=[[0]]),\n",
       " SingleEntityPhiTensor(entity=138, child=[[1]]),\n",
       " SingleEntityPhiTensor(entity=139, child=[[1]]),\n",
       " SingleEntityPhiTensor(entity=140, child=[[0]]),\n",
       " SingleEntityPhiTensor(entity=141, child=[[0]]),\n",
       " SingleEntityPhiTensor(entity=142, child=[[0]]),\n",
       " SingleEntityPhiTensor(entity=143, child=[[0]]),\n",
       " SingleEntityPhiTensor(entity=144, child=[[1]]),\n",
       " SingleEntityPhiTensor(entity=145, child=[[0]]),\n",
       " SingleEntityPhiTensor(entity=146, child=[[0]]),\n",
       " SingleEntityPhiTensor(entity=147, child=[[0]]),\n",
       " SingleEntityPhiTensor(entity=148, child=[[0]]),\n",
       " SingleEntityPhiTensor(entity=149, child=[[0]]),\n",
       " SingleEntityPhiTensor(entity=150, child=[[0]]),\n",
       " SingleEntityPhiTensor(entity=151, child=[[0]]),\n",
       " SingleEntityPhiTensor(entity=152, child=[[1]]),\n",
       " SingleEntityPhiTensor(entity=153, child=[[0]]),\n",
       " SingleEntityPhiTensor(entity=154, child=[[1]]),\n",
       " SingleEntityPhiTensor(entity=155, child=[[0]]),\n",
       " SingleEntityPhiTensor(entity=156, child=[[1]]),\n",
       " SingleEntityPhiTensor(entity=157, child=[[0]]),\n",
       " SingleEntityPhiTensor(entity=158, child=[[0]]),\n",
       " SingleEntityPhiTensor(entity=159, child=[[1]]),\n",
       " SingleEntityPhiTensor(entity=160, child=[[0]]),\n",
       " SingleEntityPhiTensor(entity=161, child=[[0]]),\n",
       " SingleEntityPhiTensor(entity=162, child=[[1]]),\n",
       " SingleEntityPhiTensor(entity=163, child=[[0]]),\n",
       " SingleEntityPhiTensor(entity=164, child=[[0]]),\n",
       " SingleEntityPhiTensor(entity=165, child=[[1]]),\n",
       " SingleEntityPhiTensor(entity=166, child=[[1]]),\n",
       " SingleEntityPhiTensor(entity=167, child=[[0]]),\n",
       " SingleEntityPhiTensor(entity=168, child=[[0]]),\n",
       " SingleEntityPhiTensor(entity=169, child=[[0]]),\n",
       " SingleEntityPhiTensor(entity=170, child=[[0]]),\n",
       " SingleEntityPhiTensor(entity=171, child=[[1]]),\n",
       " SingleEntityPhiTensor(entity=172, child=[[0]]),\n",
       " SingleEntityPhiTensor(entity=173, child=[[0]]),\n",
       " SingleEntityPhiTensor(entity=174, child=[[0]]),\n",
       " SingleEntityPhiTensor(entity=175, child=[[1]]),\n",
       " SingleEntityPhiTensor(entity=176, child=[[0]]),\n",
       " SingleEntityPhiTensor(entity=177, child=[[0]]),\n",
       " SingleEntityPhiTensor(entity=178, child=[[1]]),\n",
       " SingleEntityPhiTensor(entity=179, child=[[1]]),\n",
       " SingleEntityPhiTensor(entity=180, child=[[0]]),\n",
       " SingleEntityPhiTensor(entity=181, child=[[0]]),\n",
       " SingleEntityPhiTensor(entity=182, child=[[0]]),\n",
       " SingleEntityPhiTensor(entity=183, child=[[0]]),\n",
       " SingleEntityPhiTensor(entity=184, child=[[0]]),\n",
       " SingleEntityPhiTensor(entity=185, child=[[0]]),\n",
       " SingleEntityPhiTensor(entity=186, child=[[0]]),\n",
       " SingleEntityPhiTensor(entity=187, child=[[0]]),\n",
       " SingleEntityPhiTensor(entity=188, child=[[0]]),\n",
       " SingleEntityPhiTensor(entity=189, child=[[0]]),\n",
       " SingleEntityPhiTensor(entity=190, child=[[0]]),\n",
       " SingleEntityPhiTensor(entity=191, child=[[0]]),\n",
       " SingleEntityPhiTensor(entity=192, child=[[0]]),\n",
       " SingleEntityPhiTensor(entity=193, child=[[0]]),\n",
       " SingleEntityPhiTensor(entity=194, child=[[0]]),\n",
       " SingleEntityPhiTensor(entity=195, child=[[1]]),\n",
       " SingleEntityPhiTensor(entity=196, child=[[0]]),\n",
       " SingleEntityPhiTensor(entity=197, child=[[0]]),\n",
       " SingleEntityPhiTensor(entity=198, child=[[0]]),\n",
       " SingleEntityPhiTensor(entity=199, child=[[0]]),\n",
       " SingleEntityPhiTensor(entity=200, child=[[0]]),\n",
       " SingleEntityPhiTensor(entity=201, child=[[0]]),\n",
       " SingleEntityPhiTensor(entity=202, child=[[0]]),\n",
       " SingleEntityPhiTensor(entity=203, child=[[1]]),\n",
       " SingleEntityPhiTensor(entity=204, child=[[0]]),\n",
       " SingleEntityPhiTensor(entity=205, child=[[0]]),\n",
       " SingleEntityPhiTensor(entity=206, child=[[1]]),\n",
       " SingleEntityPhiTensor(entity=207, child=[[1]]),\n",
       " SingleEntityPhiTensor(entity=208, child=[[0]]),\n",
       " SingleEntityPhiTensor(entity=209, child=[[1]]),\n",
       " SingleEntityPhiTensor(entity=210, child=[[1]]),\n",
       " SingleEntityPhiTensor(entity=211, child=[[1]]),\n",
       " SingleEntityPhiTensor(entity=212, child=[[1]]),\n",
       " SingleEntityPhiTensor(entity=213, child=[[1]]),\n",
       " SingleEntityPhiTensor(entity=214, child=[[0]]),\n",
       " SingleEntityPhiTensor(entity=215, child=[[0]]),\n",
       " SingleEntityPhiTensor(entity=216, child=[[1]]),\n",
       " SingleEntityPhiTensor(entity=217, child=[[1]]),\n",
       " SingleEntityPhiTensor(entity=218, child=[[1]]),\n",
       " SingleEntityPhiTensor(entity=219, child=[[0]]),\n",
       " SingleEntityPhiTensor(entity=220, child=[[0]]),\n",
       " SingleEntityPhiTensor(entity=221, child=[[0]]),\n",
       " SingleEntityPhiTensor(entity=222, child=[[1]]),\n",
       " SingleEntityPhiTensor(entity=223, child=[[0]]),\n",
       " SingleEntityPhiTensor(entity=224, child=[[1]]),\n",
       " SingleEntityPhiTensor(entity=225, child=[[0]]),\n",
       " SingleEntityPhiTensor(entity=226, child=[[0]]),\n",
       " SingleEntityPhiTensor(entity=227, child=[[0]]),\n",
       " SingleEntityPhiTensor(entity=228, child=[[0]]),\n",
       " SingleEntityPhiTensor(entity=229, child=[[0]]),\n",
       " SingleEntityPhiTensor(entity=230, child=[[0]])]"
      ]
     },
     "execution_count": 17,
     "metadata": {},
     "output_type": "execute_result"
    }
   ],
   "source": [
    "data_tensor.child.child"
   ]
  },
  {
   "cell_type": "markdown",
   "metadata": {
    "id": "mTfXq8R8jmAj"
   },
   "source": [
    "The information is organized into rows with different levels.\n",
    "\n",
    "The Data Scientist has to extract and recreate the original dataset."
   ]
  },
  {
   "cell_type": "code",
   "execution_count": 18,
   "metadata": {
    "id": "IaSniDuoA5N7"
   },
   "outputs": [],
   "source": [
    "values = list(map(lambda x: x.child[0], data_tensor.child.child))"
   ]
  },
  {
   "cell_type": "code",
   "execution_count": 19,
   "metadata": {
    "colab": {
     "base_uri": "https://localhost:8080/"
    },
    "id": "w1NWE_EAA8JW",
    "outputId": "222b3e16-7cfe-48ca-c3f5-3b98a3026919"
   },
   "outputs": [
    {
     "data": {
      "text/plain": [
       "[array([0], dtype=int32),\n",
       " array([0], dtype=int32),\n",
       " array([0], dtype=int32),\n",
       " array([0], dtype=int32),\n",
       " array([0], dtype=int32),\n",
       " array([0], dtype=int32),\n",
       " array([0], dtype=int32),\n",
       " array([0], dtype=int32),\n",
       " array([1], dtype=int32),\n",
       " array([1], dtype=int32),\n",
       " array([0], dtype=int32),\n",
       " array([1], dtype=int32),\n",
       " array([1], dtype=int32),\n",
       " array([0], dtype=int32),\n",
       " array([0], dtype=int32),\n",
       " array([0], dtype=int32),\n",
       " array([0], dtype=int32),\n",
       " array([0], dtype=int32),\n",
       " array([0], dtype=int32),\n",
       " array([0], dtype=int32),\n",
       " array([0], dtype=int32),\n",
       " array([1], dtype=int32),\n",
       " array([0], dtype=int32),\n",
       " array([0], dtype=int32),\n",
       " array([1], dtype=int32),\n",
       " array([0], dtype=int32),\n",
       " array([0], dtype=int32),\n",
       " array([0], dtype=int32),\n",
       " array([0], dtype=int32),\n",
       " array([0], dtype=int32),\n",
       " array([0], dtype=int32),\n",
       " array([0], dtype=int32),\n",
       " array([0], dtype=int32),\n",
       " array([0], dtype=int32),\n",
       " array([0], dtype=int32),\n",
       " array([0], dtype=int32),\n",
       " array([0], dtype=int32),\n",
       " array([0], dtype=int32),\n",
       " array([0], dtype=int32),\n",
       " array([0], dtype=int32),\n",
       " array([0], dtype=int32),\n",
       " array([0], dtype=int32),\n",
       " array([1], dtype=int32),\n",
       " array([1], dtype=int32),\n",
       " array([0], dtype=int32),\n",
       " array([0], dtype=int32),\n",
       " array([0], dtype=int32),\n",
       " array([0], dtype=int32),\n",
       " array([0], dtype=int32),\n",
       " array([1], dtype=int32),\n",
       " array([0], dtype=int32),\n",
       " array([1], dtype=int32),\n",
       " array([0], dtype=int32),\n",
       " array([1], dtype=int32),\n",
       " array([0], dtype=int32),\n",
       " array([0], dtype=int32),\n",
       " array([0], dtype=int32),\n",
       " array([0], dtype=int32),\n",
       " array([1], dtype=int32),\n",
       " array([0], dtype=int32),\n",
       " array([0], dtype=int32),\n",
       " array([1], dtype=int32),\n",
       " array([0], dtype=int32),\n",
       " array([0], dtype=int32),\n",
       " array([0], dtype=int32),\n",
       " array([0], dtype=int32),\n",
       " array([1], dtype=int32),\n",
       " array([1], dtype=int32),\n",
       " array([0], dtype=int32),\n",
       " array([1], dtype=int32),\n",
       " array([0], dtype=int32),\n",
       " array([1], dtype=int32),\n",
       " array([0], dtype=int32),\n",
       " array([0], dtype=int32),\n",
       " array([1], dtype=int32),\n",
       " array([1], dtype=int32),\n",
       " array([0], dtype=int32),\n",
       " array([1], dtype=int32),\n",
       " array([0], dtype=int32),\n",
       " array([0], dtype=int32),\n",
       " array([0], dtype=int32),\n",
       " array([1], dtype=int32),\n",
       " array([0], dtype=int32),\n",
       " array([0], dtype=int32),\n",
       " array([0], dtype=int32),\n",
       " array([1], dtype=int32),\n",
       " array([0], dtype=int32),\n",
       " array([0], dtype=int32),\n",
       " array([0], dtype=int32),\n",
       " array([0], dtype=int32),\n",
       " array([0], dtype=int32),\n",
       " array([0], dtype=int32),\n",
       " array([0], dtype=int32),\n",
       " array([0], dtype=int32),\n",
       " array([0], dtype=int32),\n",
       " array([0], dtype=int32),\n",
       " array([0], dtype=int32),\n",
       " array([0], dtype=int32),\n",
       " array([0], dtype=int32),\n",
       " array([0], dtype=int32),\n",
       " array([0], dtype=int32),\n",
       " array([0], dtype=int32),\n",
       " array([0], dtype=int32),\n",
       " array([0], dtype=int32),\n",
       " array([0], dtype=int32),\n",
       " array([0], dtype=int32),\n",
       " array([0], dtype=int32),\n",
       " array([0], dtype=int32),\n",
       " array([1], dtype=int32),\n",
       " array([0], dtype=int32),\n",
       " array([1], dtype=int32),\n",
       " array([0], dtype=int32),\n",
       " array([0], dtype=int32),\n",
       " array([0], dtype=int32),\n",
       " array([0], dtype=int32),\n",
       " array([0], dtype=int32),\n",
       " array([0], dtype=int32),\n",
       " array([0], dtype=int32),\n",
       " array([1], dtype=int32),\n",
       " array([0], dtype=int32),\n",
       " array([1], dtype=int32),\n",
       " array([1], dtype=int32),\n",
       " array([0], dtype=int32),\n",
       " array([1], dtype=int32),\n",
       " array([1], dtype=int32),\n",
       " array([1], dtype=int32),\n",
       " array([1], dtype=int32),\n",
       " array([0], dtype=int32),\n",
       " array([0], dtype=int32),\n",
       " array([1], dtype=int32),\n",
       " array([0], dtype=int32),\n",
       " array([0], dtype=int32),\n",
       " array([1], dtype=int32),\n",
       " array([1], dtype=int32),\n",
       " array([0], dtype=int32),\n",
       " array([0], dtype=int32),\n",
       " array([1], dtype=int32),\n",
       " array([0], dtype=int32),\n",
       " array([1], dtype=int32),\n",
       " array([1], dtype=int32),\n",
       " array([0], dtype=int32),\n",
       " array([0], dtype=int32),\n",
       " array([0], dtype=int32),\n",
       " array([0], dtype=int32),\n",
       " array([1], dtype=int32),\n",
       " array([0], dtype=int32),\n",
       " array([0], dtype=int32),\n",
       " array([0], dtype=int32),\n",
       " array([0], dtype=int32),\n",
       " array([0], dtype=int32),\n",
       " array([0], dtype=int32),\n",
       " array([0], dtype=int32),\n",
       " array([1], dtype=int32),\n",
       " array([0], dtype=int32),\n",
       " array([1], dtype=int32),\n",
       " array([0], dtype=int32),\n",
       " array([1], dtype=int32),\n",
       " array([0], dtype=int32),\n",
       " array([0], dtype=int32),\n",
       " array([1], dtype=int32),\n",
       " array([0], dtype=int32),\n",
       " array([0], dtype=int32),\n",
       " array([1], dtype=int32),\n",
       " array([0], dtype=int32),\n",
       " array([0], dtype=int32),\n",
       " array([1], dtype=int32),\n",
       " array([1], dtype=int32),\n",
       " array([0], dtype=int32),\n",
       " array([0], dtype=int32),\n",
       " array([0], dtype=int32),\n",
       " array([0], dtype=int32),\n",
       " array([1], dtype=int32),\n",
       " array([0], dtype=int32),\n",
       " array([0], dtype=int32),\n",
       " array([0], dtype=int32),\n",
       " array([1], dtype=int32),\n",
       " array([0], dtype=int32),\n",
       " array([0], dtype=int32),\n",
       " array([1], dtype=int32),\n",
       " array([1], dtype=int32),\n",
       " array([0], dtype=int32),\n",
       " array([0], dtype=int32),\n",
       " array([0], dtype=int32),\n",
       " array([0], dtype=int32),\n",
       " array([0], dtype=int32),\n",
       " array([0], dtype=int32),\n",
       " array([0], dtype=int32),\n",
       " array([0], dtype=int32),\n",
       " array([0], dtype=int32),\n",
       " array([0], dtype=int32),\n",
       " array([0], dtype=int32),\n",
       " array([0], dtype=int32),\n",
       " array([0], dtype=int32),\n",
       " array([0], dtype=int32),\n",
       " array([0], dtype=int32),\n",
       " array([1], dtype=int32),\n",
       " array([0], dtype=int32),\n",
       " array([0], dtype=int32),\n",
       " array([0], dtype=int32),\n",
       " array([0], dtype=int32),\n",
       " array([0], dtype=int32),\n",
       " array([0], dtype=int32),\n",
       " array([0], dtype=int32),\n",
       " array([1], dtype=int32),\n",
       " array([0], dtype=int32),\n",
       " array([0], dtype=int32),\n",
       " array([1], dtype=int32),\n",
       " array([1], dtype=int32),\n",
       " array([0], dtype=int32),\n",
       " array([1], dtype=int32),\n",
       " array([1], dtype=int32),\n",
       " array([1], dtype=int32),\n",
       " array([1], dtype=int32),\n",
       " array([1], dtype=int32),\n",
       " array([0], dtype=int32),\n",
       " array([0], dtype=int32),\n",
       " array([1], dtype=int32),\n",
       " array([1], dtype=int32),\n",
       " array([1], dtype=int32),\n",
       " array([0], dtype=int32),\n",
       " array([0], dtype=int32),\n",
       " array([0], dtype=int32),\n",
       " array([1], dtype=int32),\n",
       " array([0], dtype=int32),\n",
       " array([1], dtype=int32),\n",
       " array([0], dtype=int32),\n",
       " array([0], dtype=int32),\n",
       " array([0], dtype=int32),\n",
       " array([0], dtype=int32),\n",
       " array([0], dtype=int32),\n",
       " array([0], dtype=int32)]"
      ]
     },
     "execution_count": 19,
     "metadata": {},
     "output_type": "execute_result"
    }
   ],
   "source": [
    "values"
   ]
  },
  {
   "cell_type": "markdown",
   "metadata": {
    "id": "WnbRnHLokfAO"
   },
   "source": [
    "Lets check the DataFrame"
   ]
  },
  {
   "cell_type": "code",
   "execution_count": 20,
   "metadata": {
    "colab": {
     "base_uri": "https://localhost:8080/",
     "height": 424
    },
    "id": "a46WKDZGIWqZ",
    "outputId": "db387f3e-161a-40b0-9286-af8507f767ff"
   },
   "outputs": [
    {
     "data": {
      "text/html": [
       "\n",
       "  <div id=\"df-bd79d383-5a61-4332-9edf-d677dbb1684c\">\n",
       "    <div class=\"colab-df-container\">\n",
       "      <div>\n",
       "<style scoped>\n",
       "    .dataframe tbody tr th:only-of-type {\n",
       "        vertical-align: middle;\n",
       "    }\n",
       "\n",
       "    .dataframe tbody tr th {\n",
       "        vertical-align: top;\n",
       "    }\n",
       "\n",
       "    .dataframe thead th {\n",
       "        text-align: right;\n",
       "    }\n",
       "</style>\n",
       "<table border=\"1\" class=\"dataframe\">\n",
       "  <thead>\n",
       "    <tr style=\"text-align: right;\">\n",
       "      <th></th>\n",
       "      <th>prediccion</th>\n",
       "    </tr>\n",
       "  </thead>\n",
       "  <tbody>\n",
       "    <tr>\n",
       "      <th>0</th>\n",
       "      <td>0</td>\n",
       "    </tr>\n",
       "    <tr>\n",
       "      <th>1</th>\n",
       "      <td>0</td>\n",
       "    </tr>\n",
       "    <tr>\n",
       "      <th>2</th>\n",
       "      <td>0</td>\n",
       "    </tr>\n",
       "    <tr>\n",
       "      <th>3</th>\n",
       "      <td>0</td>\n",
       "    </tr>\n",
       "    <tr>\n",
       "      <th>4</th>\n",
       "      <td>0</td>\n",
       "    </tr>\n",
       "    <tr>\n",
       "      <th>...</th>\n",
       "      <td>...</td>\n",
       "    </tr>\n",
       "    <tr>\n",
       "      <th>226</th>\n",
       "      <td>0</td>\n",
       "    </tr>\n",
       "    <tr>\n",
       "      <th>227</th>\n",
       "      <td>0</td>\n",
       "    </tr>\n",
       "    <tr>\n",
       "      <th>228</th>\n",
       "      <td>0</td>\n",
       "    </tr>\n",
       "    <tr>\n",
       "      <th>229</th>\n",
       "      <td>0</td>\n",
       "    </tr>\n",
       "    <tr>\n",
       "      <th>230</th>\n",
       "      <td>0</td>\n",
       "    </tr>\n",
       "  </tbody>\n",
       "</table>\n",
       "<p>231 rows × 1 columns</p>\n",
       "</div>\n",
       "      <button class=\"colab-df-convert\" onclick=\"convertToInteractive('df-bd79d383-5a61-4332-9edf-d677dbb1684c')\"\n",
       "              title=\"Convert this dataframe to an interactive table.\"\n",
       "              style=\"display:none;\">\n",
       "        \n",
       "  <svg xmlns=\"http://www.w3.org/2000/svg\" height=\"24px\"viewBox=\"0 0 24 24\"\n",
       "       width=\"24px\">\n",
       "    <path d=\"M0 0h24v24H0V0z\" fill=\"none\"/>\n",
       "    <path d=\"M18.56 5.44l.94 2.06.94-2.06 2.06-.94-2.06-.94-.94-2.06-.94 2.06-2.06.94zm-11 1L8.5 8.5l.94-2.06 2.06-.94-2.06-.94L8.5 2.5l-.94 2.06-2.06.94zm10 10l.94 2.06.94-2.06 2.06-.94-2.06-.94-.94-2.06-.94 2.06-2.06.94z\"/><path d=\"M17.41 7.96l-1.37-1.37c-.4-.4-.92-.59-1.43-.59-.52 0-1.04.2-1.43.59L10.3 9.45l-7.72 7.72c-.78.78-.78 2.05 0 2.83L4 21.41c.39.39.9.59 1.41.59.51 0 1.02-.2 1.41-.59l7.78-7.78 2.81-2.81c.8-.78.8-2.07 0-2.86zM5.41 20L4 18.59l7.72-7.72 1.47 1.35L5.41 20z\"/>\n",
       "  </svg>\n",
       "      </button>\n",
       "      \n",
       "  <style>\n",
       "    .colab-df-container {\n",
       "      display:flex;\n",
       "      flex-wrap:wrap;\n",
       "      gap: 12px;\n",
       "    }\n",
       "\n",
       "    .colab-df-convert {\n",
       "      background-color: #E8F0FE;\n",
       "      border: none;\n",
       "      border-radius: 50%;\n",
       "      cursor: pointer;\n",
       "      display: none;\n",
       "      fill: #1967D2;\n",
       "      height: 32px;\n",
       "      padding: 0 0 0 0;\n",
       "      width: 32px;\n",
       "    }\n",
       "\n",
       "    .colab-df-convert:hover {\n",
       "      background-color: #E2EBFA;\n",
       "      box-shadow: 0px 1px 2px rgba(60, 64, 67, 0.3), 0px 1px 3px 1px rgba(60, 64, 67, 0.15);\n",
       "      fill: #174EA6;\n",
       "    }\n",
       "\n",
       "    [theme=dark] .colab-df-convert {\n",
       "      background-color: #3B4455;\n",
       "      fill: #D2E3FC;\n",
       "    }\n",
       "\n",
       "    [theme=dark] .colab-df-convert:hover {\n",
       "      background-color: #434B5C;\n",
       "      box-shadow: 0px 1px 3px 1px rgba(0, 0, 0, 0.15);\n",
       "      filter: drop-shadow(0px 1px 2px rgba(0, 0, 0, 0.3));\n",
       "      fill: #FFFFFF;\n",
       "    }\n",
       "  </style>\n",
       "\n",
       "      <script>\n",
       "        const buttonEl =\n",
       "          document.querySelector('#df-bd79d383-5a61-4332-9edf-d677dbb1684c button.colab-df-convert');\n",
       "        buttonEl.style.display =\n",
       "          google.colab.kernel.accessAllowed ? 'block' : 'none';\n",
       "\n",
       "        async function convertToInteractive(key) {\n",
       "          const element = document.querySelector('#df-bd79d383-5a61-4332-9edf-d677dbb1684c');\n",
       "          const dataTable =\n",
       "            await google.colab.kernel.invokeFunction('convertToInteractive',\n",
       "                                                     [key], {});\n",
       "          if (!dataTable) return;\n",
       "\n",
       "          const docLinkHtml = 'Like what you see? Visit the ' +\n",
       "            '<a target=\"_blank\" href=https://colab.research.google.com/notebooks/data_table.ipynb>data table notebook</a>'\n",
       "            + ' to learn more about interactive tables.';\n",
       "          element.innerHTML = '';\n",
       "          dataTable['output_type'] = 'display_data';\n",
       "          await google.colab.output.renderOutput(dataTable, element);\n",
       "          const docLink = document.createElement('div');\n",
       "          docLink.innerHTML = docLinkHtml;\n",
       "          element.appendChild(docLink);\n",
       "        }\n",
       "      </script>\n",
       "    </div>\n",
       "  </div>\n",
       "  "
      ],
      "text/plain": [
       "     prediccion\n",
       "0             0\n",
       "1             0\n",
       "2             0\n",
       "3             0\n",
       "4             0\n",
       "..          ...\n",
       "226           0\n",
       "227           0\n",
       "228           0\n",
       "229           0\n",
       "230           0\n",
       "\n",
       "[231 rows x 1 columns]"
      ]
     },
     "execution_count": 20,
     "metadata": {},
     "output_type": "execute_result"
    }
   ],
   "source": [
    "df_prediccion = pd.DataFrame(values, columns=[\"prediccion\"])\n",
    "df_prediccion"
   ]
  },
  {
   "cell_type": "markdown",
   "metadata": {
    "id": "sDMKORJw5EQA"
   },
   "source": [
    "Now the Trusted Curator Student can save the prediction from the Trusted Curator Teacher in a CSV."
   ]
  },
  {
   "cell_type": "code",
   "execution_count": 21,
   "metadata": {
    "id": "R9kQgIkzKCQv"
   },
   "outputs": [],
   "source": [
    "df_prediccion.to_csv(\"df_prediccion_student.csv\")\n",
    "df_prediccion.to_csv(\"/content/drive/MyDrive/df_prediccion_student.csv\")"
   ]
  }
 ],
 "metadata": {
  "colab": {
   "collapsed_sections": [],
   "name": "Data_Scientist_13_03.ipynb",
   "provenance": []
  },
  "kernelspec": {
   "display_name": "Python 3 (ipykernel)",
   "language": "python",
   "name": "python3"
  },
  "language_info": {
   "codemirror_mode": {
    "name": "ipython",
    "version": 3
   },
   "file_extension": ".py",
   "mimetype": "text/x-python",
   "name": "python",
   "nbconvert_exporter": "python",
   "pygments_lexer": "ipython3",
   "version": "3.9.7"
  }
 },
 "nbformat": 4,
 "nbformat_minor": 1
}
