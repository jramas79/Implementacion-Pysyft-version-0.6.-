{
 "cells": [
  {
   "cell_type": "markdown",
   "metadata": {
    "id": "NXKxR-6DTNGd"
   },
   "source": [
    "This prototype shows the code for the Data Owner to upload a dataset and give access to a Data Scientist \n",
    "\n",
    "First install syft, this will install the 0.6.0 version"
   ]
  },
  {
   "cell_type": "code",
   "execution_count": 1,
   "metadata": {
    "colab": {
     "base_uri": "https://localhost:8080/"
    },
    "id": "SwR7Ze8Qg4T0",
    "outputId": "0a510e6d-8819-4e27-e9f3-730960209e95"
   },
   "outputs": [
    {
     "name": "stdout",
     "output_type": "stream",
     "text": [
      "Requirement already satisfied: syft==0.6.0 in /usr/local/lib/python3.7/dist-packages (0.6.0)\n",
      "Requirement already satisfied: protobuf==3.19.1 in /usr/local/lib/python3.7/dist-packages (from syft==0.6.0) (3.19.1)\n",
      "Requirement already satisfied: loguru==0.5.3 in /usr/local/lib/python3.7/dist-packages (from syft==0.6.0) (0.5.3)\n",
      "Requirement already satisfied: bcrypt==3.2.0 in /usr/local/lib/python3.7/dist-packages (from syft==0.6.0) (3.2.0)\n",
      "Requirement already satisfied: numpy==1.21.4 in /usr/local/lib/python3.7/dist-packages (from syft==0.6.0) (1.21.4)\n",
      "Requirement already satisfied: gevent==21.8.0 in /usr/local/lib/python3.7/dist-packages (from syft==0.6.0) (21.8.0)\n",
      "Requirement already satisfied: sympy==1.9 in /usr/local/lib/python3.7/dist-packages (from syft==0.6.0) (1.9)\n",
      "Requirement already satisfied: names==0.3.0 in /usr/local/lib/python3.7/dist-packages (from syft==0.6.0) (0.3.0)\n",
      "Requirement already satisfied: requests-toolbelt==0.9.1 in /usr/local/lib/python3.7/dist-packages (from syft==0.6.0) (0.9.1)\n",
      "Requirement already satisfied: pydantic[email]==1.8.2 in /usr/local/lib/python3.7/dist-packages (from syft==0.6.0) (1.8.2)\n",
      "Requirement already satisfied: packaging==21.2 in /usr/local/lib/python3.7/dist-packages (from syft==0.6.0) (21.2)\n",
      "Requirement already satisfied: autodp==0.2 in /usr/local/lib/python3.7/dist-packages (from syft==0.6.0) (0.2)\n",
      "Requirement already satisfied: ascii-magic==1.6 in /usr/local/lib/python3.7/dist-packages (from syft==0.6.0) (1.6)\n",
      "Requirement already satisfied: PyNaCl==1.4.0 in /usr/local/lib/python3.7/dist-packages (from syft==0.6.0) (1.4.0)\n",
      "Requirement already satisfied: importlib-metadata==4.8.2 in /usr/local/lib/python3.7/dist-packages (from syft==0.6.0) (4.8.2)\n",
      "Requirement already satisfied: typing-extensions==4.0.0 in /usr/local/lib/python3.7/dist-packages (from syft==0.6.0) (4.0.0)\n",
      "Requirement already satisfied: pymbolic==2021.1 in /usr/local/lib/python3.7/dist-packages (from syft==0.6.0) (2021.1)\n",
      "Requirement already satisfied: pandas==1.3.4 in /usr/local/lib/python3.7/dist-packages (from syft==0.6.0) (1.3.4)\n",
      "Requirement already satisfied: PyJWT==2.3.0 in /usr/local/lib/python3.7/dist-packages (from syft==0.6.0) (2.3.0)\n",
      "Requirement already satisfied: requests==2.26.0 in /usr/local/lib/python3.7/dist-packages (from syft==0.6.0) (2.26.0)\n",
      "Requirement already satisfied: tqdm==4.62.3 in /usr/local/lib/python3.7/dist-packages (from syft==0.6.0) (4.62.3)\n",
      "Requirement already satisfied: werkzeug==2.0.2 in /usr/local/lib/python3.7/dist-packages (from syft==0.6.0) (2.0.2)\n",
      "Requirement already satisfied: torch<=1.10.0,>=1.8.1 in /usr/local/lib/python3.7/dist-packages (from syft==0.6.0) (1.10.0+cu111)\n",
      "Requirement already satisfied: forbiddenfruit==0.1.4 in /usr/local/lib/python3.7/dist-packages (from syft==0.6.0) (0.1.4)\n",
      "Requirement already satisfied: cachetools==4.2.4 in /usr/local/lib/python3.7/dist-packages (from syft==0.6.0) (4.2.4)\n",
      "Requirement already satisfied: SQLAlchemy==1.4.27 in /usr/local/lib/python3.7/dist-packages (from syft==0.6.0) (1.4.27)\n",
      "Requirement already satisfied: pyarrow==6.0.0 in /usr/local/lib/python3.7/dist-packages (from syft==0.6.0) (6.0.0)\n",
      "Requirement already satisfied: Pillow in /usr/local/lib/python3.7/dist-packages (from ascii-magic==1.6->syft==0.6.0) (7.1.2)\n",
      "Requirement already satisfied: colorama in /usr/local/lib/python3.7/dist-packages (from ascii-magic==1.6->syft==0.6.0) (0.4.4)\n",
      "Requirement already satisfied: scipy in /usr/local/lib/python3.7/dist-packages (from autodp==0.2->syft==0.6.0) (1.4.1)\n",
      "Requirement already satisfied: six>=1.4.1 in /usr/local/lib/python3.7/dist-packages (from bcrypt==3.2.0->syft==0.6.0) (1.15.0)\n",
      "Requirement already satisfied: cffi>=1.1 in /usr/local/lib/python3.7/dist-packages (from bcrypt==3.2.0->syft==0.6.0) (1.15.0)\n",
      "Requirement already satisfied: zope.interface in /usr/local/lib/python3.7/dist-packages (from gevent==21.8.0->syft==0.6.0) (5.4.0)\n",
      "Requirement already satisfied: greenlet<2.0,>=1.1.0 in /usr/local/lib/python3.7/dist-packages (from gevent==21.8.0->syft==0.6.0) (1.1.2)\n",
      "Requirement already satisfied: setuptools in /usr/local/lib/python3.7/dist-packages (from gevent==21.8.0->syft==0.6.0) (57.4.0)\n",
      "Requirement already satisfied: zope.event in /usr/local/lib/python3.7/dist-packages (from gevent==21.8.0->syft==0.6.0) (4.5.0)\n",
      "Requirement already satisfied: zipp>=0.5 in /usr/local/lib/python3.7/dist-packages (from importlib-metadata==4.8.2->syft==0.6.0) (3.7.0)\n",
      "Requirement already satisfied: pyparsing<3,>=2.0.2 in /usr/local/lib/python3.7/dist-packages (from packaging==21.2->syft==0.6.0) (2.4.7)\n",
      "Requirement already satisfied: python-dateutil>=2.7.3 in /usr/local/lib/python3.7/dist-packages (from pandas==1.3.4->syft==0.6.0) (2.8.2)\n",
      "Requirement already satisfied: pytz>=2017.3 in /usr/local/lib/python3.7/dist-packages (from pandas==1.3.4->syft==0.6.0) (2018.9)\n",
      "Requirement already satisfied: email-validator>=1.0.3 in /usr/local/lib/python3.7/dist-packages (from pydantic[email]==1.8.2->syft==0.6.0) (1.1.3)\n",
      "Requirement already satisfied: pytools>=2 in /usr/local/lib/python3.7/dist-packages (from pymbolic==2021.1->syft==0.6.0) (2022.1.1)\n",
      "Requirement already satisfied: pytest>=2.3 in /usr/local/lib/python3.7/dist-packages (from pymbolic==2021.1->syft==0.6.0) (3.6.4)\n",
      "Requirement already satisfied: idna<4,>=2.5 in /usr/local/lib/python3.7/dist-packages (from requests==2.26.0->syft==0.6.0) (2.10)\n",
      "Requirement already satisfied: urllib3<1.27,>=1.21.1 in /usr/local/lib/python3.7/dist-packages (from requests==2.26.0->syft==0.6.0) (1.24.3)\n",
      "Requirement already satisfied: certifi>=2017.4.17 in /usr/local/lib/python3.7/dist-packages (from requests==2.26.0->syft==0.6.0) (2021.10.8)\n",
      "Requirement already satisfied: charset-normalizer~=2.0.0 in /usr/local/lib/python3.7/dist-packages (from requests==2.26.0->syft==0.6.0) (2.0.12)\n",
      "Requirement already satisfied: mpmath>=0.19 in /usr/local/lib/python3.7/dist-packages (from sympy==1.9->syft==0.6.0) (1.2.1)\n",
      "Requirement already satisfied: pycparser in /usr/local/lib/python3.7/dist-packages (from cffi>=1.1->bcrypt==3.2.0->syft==0.6.0) (2.21)\n",
      "Requirement already satisfied: dnspython>=1.15.0 in /usr/local/lib/python3.7/dist-packages (from email-validator>=1.0.3->pydantic[email]==1.8.2->syft==0.6.0) (2.2.1)\n",
      "Requirement already satisfied: atomicwrites>=1.0 in /usr/local/lib/python3.7/dist-packages (from pytest>=2.3->pymbolic==2021.1->syft==0.6.0) (1.4.0)\n",
      "Requirement already satisfied: more-itertools>=4.0.0 in /usr/local/lib/python3.7/dist-packages (from pytest>=2.3->pymbolic==2021.1->syft==0.6.0) (8.12.0)\n",
      "Requirement already satisfied: pluggy<0.8,>=0.5 in /usr/local/lib/python3.7/dist-packages (from pytest>=2.3->pymbolic==2021.1->syft==0.6.0) (0.7.1)\n",
      "Requirement already satisfied: py>=1.5.0 in /usr/local/lib/python3.7/dist-packages (from pytest>=2.3->pymbolic==2021.1->syft==0.6.0) (1.11.0)\n",
      "Requirement already satisfied: attrs>=17.4.0 in /usr/local/lib/python3.7/dist-packages (from pytest>=2.3->pymbolic==2021.1->syft==0.6.0) (21.4.0)\n",
      "Requirement already satisfied: platformdirs>=2.2.0 in /usr/local/lib/python3.7/dist-packages (from pytools>=2->pymbolic==2021.1->syft==0.6.0) (2.5.1)\n"
     ]
    }
   ],
   "source": [
    "!pip install syft==0.6.0"
   ]
  },
  {
   "cell_type": "markdown",
   "metadata": {
    "id": "javBQwMpUUx4"
   },
   "source": [
    "Check the installed version"
   ]
  },
  {
   "cell_type": "code",
   "execution_count": 2,
   "metadata": {
    "colab": {
     "base_uri": "https://localhost:8080/"
    },
    "id": "0_yZ_g9NUNUi",
    "outputId": "4567e961-efa2-4592-d6c4-8c9725306d6f"
   },
   "outputs": [
    {
     "name": "stdout",
     "output_type": "stream",
     "text": [
      "syft                          0.6.0\n"
     ]
    }
   ],
   "source": [
    "!pip list | grep syft"
   ]
  },
  {
   "cell_type": "markdown",
   "metadata": {
    "id": "4p-H1O1kTr5L"
   },
   "source": [
    "Import all the necessary dependencies "
   ]
  },
  {
   "cell_type": "code",
   "execution_count": 3,
   "metadata": {
    "id": "dn4Qu_zRiF3R"
   },
   "outputs": [],
   "source": [
    "import syft as sy\n",
    "from google.colab import files\n",
    "import pandas as pd\n",
    "import numpy as np"
   ]
  },
  {
   "cell_type": "markdown",
   "metadata": {
    "id": "trEx-snEUoTY"
   },
   "source": [
    "Define IP and port address to connect to the domain or use the DNS. The domain has been installed using the one-click for Azure. \n",
    "Check https://github.com/OpenMined/PySyft/tree/0.6.0 at the Deploy to Cloud\n",
    "section\n"
   ]
  },
  {
   "cell_type": "code",
   "execution_count": 4,
   "metadata": {
    "id": "xA1-YwMeUlHg"
   },
   "outputs": [],
   "source": [
    "DOMAIN_URL1 =\"http://40.118.207.120:80\"\n",
    "#\"http://tesis.westus.cloudapp.azure.com:80\" \n",
    "#\"http://ort.westus.cloudapp.azure.com:80\""
   ]
  },
  {
   "cell_type": "markdown",
   "metadata": {
    "id": "BsBjCvh_q25P"
   },
   "source": [
    "Login to the domain as admin and create an user with the role Data Scientist"
   ]
  },
  {
   "cell_type": "code",
   "execution_count": 5,
   "metadata": {
    "colab": {
     "base_uri": "https://localhost:8080/"
    },
    "id": "_iGCFGA_m6ow",
    "outputId": "12b4ee64-ca40-4f45-f68d-fee21cad1fb4"
   },
   "outputs": [
    {
     "name": "stdout",
     "output_type": "stream",
     "text": [
      "WARNING: CHANGE YOUR USERNAME AND PASSWORD!!! \n",
      "\n",
      "Anyone can login as an admin to your node right now because your password is still the default PySyft username and password!!!\n",
      "\n",
      "\r",
      "Connecting to http://40.118.207.120:80... done! \t Logging into node... done!\n"
     ]
    }
   ],
   "source": [
    "domain = sy.login(\n",
    "    url=DOMAIN_URL1,\n",
    "    email=\"info@openmined.org\",\n",
    "    password=\"changethis\"\n",
    "    )\n"
   ]
  },
  {
   "cell_type": "markdown",
   "metadata": {
    "id": "7VkEKrQb5Sr2"
   },
   "source": [
    "Crear el usuario"
   ]
  },
  {
   "cell_type": "code",
   "execution_count": 6,
   "metadata": {
    "colab": {
     "base_uri": "https://localhost:8080/",
     "height": 264
    },
    "id": "hGC93Mp8qi31",
    "outputId": "d49ed8dd-b11d-4686-d502-e46684abee5d"
   },
   "outputs": [
    {
     "data": {
      "text/html": [
       "<div>\n",
       "<style scoped>\n",
       "    .dataframe tbody tr th:only-of-type {\n",
       "        vertical-align: middle;\n",
       "    }\n",
       "\n",
       "    .dataframe tbody tr th {\n",
       "        vertical-align: top;\n",
       "    }\n",
       "\n",
       "    .dataframe thead th {\n",
       "        text-align: right;\n",
       "    }\n",
       "</style>\n",
       "<table border=\"1\" class=\"dataframe\">\n",
       "  <thead>\n",
       "    <tr style=\"text-align: right;\">\n",
       "      <th></th>\n",
       "      <th>id</th>\n",
       "      <th>email</th>\n",
       "      <th>name</th>\n",
       "      <th>budget</th>\n",
       "      <th>verify_key</th>\n",
       "      <th>role</th>\n",
       "      <th>added_by</th>\n",
       "      <th>website</th>\n",
       "      <th>institution</th>\n",
       "      <th>daa_pdf</th>\n",
       "      <th>created_at</th>\n",
       "      <th>budget_spent</th>\n",
       "    </tr>\n",
       "  </thead>\n",
       "  <tbody>\n",
       "    <tr>\n",
       "      <th>0</th>\n",
       "      <td>1</td>\n",
       "      <td>info@openmined.org</td>\n",
       "      <td>Jane Doe</td>\n",
       "      <td>5.55</td>\n",
       "      <td>07da602cdbeb26826410b4b9708db587ead1f976cb13e8...</td>\n",
       "      <td>Owner</td>\n",
       "      <td>None</td>\n",
       "      <td>None</td>\n",
       "      <td>None</td>\n",
       "      <td>NaN</td>\n",
       "      <td>2022-03-11 20:13:28.993651</td>\n",
       "      <td>5.55</td>\n",
       "    </tr>\n",
       "    <tr>\n",
       "      <th>1</th>\n",
       "      <td>2</td>\n",
       "      <td>test@gmail.com</td>\n",
       "      <td>test</td>\n",
       "      <td>0.00</td>\n",
       "      <td>f531025137b830cb01d06d0df928d8f027100dbdc568d1...</td>\n",
       "      <td>Data Scientist</td>\n",
       "      <td>Jane Doe</td>\n",
       "      <td></td>\n",
       "      <td></td>\n",
       "      <td>1.0</td>\n",
       "      <td>2022-03-11 20:30:20.071845</td>\n",
       "      <td>0.00</td>\n",
       "    </tr>\n",
       "    <tr>\n",
       "      <th>2</th>\n",
       "      <td>3</td>\n",
       "      <td>szanottag@gmail.com</td>\n",
       "      <td>TCS</td>\n",
       "      <td>0.00</td>\n",
       "      <td>80aea16da02e20d930a65197f190b6946c435ad883d76f...</td>\n",
       "      <td>Data Scientist</td>\n",
       "      <td>Jane Doe</td>\n",
       "      <td></td>\n",
       "      <td></td>\n",
       "      <td>2.0</td>\n",
       "      <td>2022-03-13 22:07:28.215712</td>\n",
       "      <td>0.00</td>\n",
       "    </tr>\n",
       "    <tr>\n",
       "      <th>3</th>\n",
       "      <td>4</td>\n",
       "      <td>betirod@hotmail.com</td>\n",
       "      <td>TCT</td>\n",
       "      <td>0.00</td>\n",
       "      <td>4d509a60e4cbc37762f6a34dd0cfb6f1b4d27938794037...</td>\n",
       "      <td>Data Scientist</td>\n",
       "      <td>Jane Doe</td>\n",
       "      <td></td>\n",
       "      <td></td>\n",
       "      <td>3.0</td>\n",
       "      <td>2022-03-13 22:07:28.640620</td>\n",
       "      <td>0.00</td>\n",
       "    </tr>\n",
       "  </tbody>\n",
       "</table>\n",
       "</div>"
      ],
      "text/plain": [
       "<syft.core.node.common.client_manager.user_api.UserRequestAPI at 0x7fb6fc83ad90>"
      ]
     },
     "execution_count": 6,
     "metadata": {},
     "output_type": "execute_result"
    }
   ],
   "source": [
    "domain.users"
   ]
  },
  {
   "cell_type": "markdown",
   "metadata": {
    "id": "IBuRfZ-nXwR0"
   },
   "source": [
    "The next code is commented becouse each time you run the systmen create a new user with the same name. "
   ]
  },
  {
   "cell_type": "code",
   "execution_count": null,
   "metadata": {
    "id": "M36Z431V5RYx"
   },
   "outputs": [],
   "source": [
    "#domain.users.create(name='TCS',email='szanottag@gmail.com',role='Data Scientist',  password='passwordtest')\n",
    "#domain.users.create(name='TCT',email='betirod@hotmail.com',role='Data Scientist',  password='passwordtest1')"
   ]
  },
  {
   "cell_type": "markdown",
   "metadata": {
    "id": "o5Q1gn_9VfTC"
   },
   "source": [
    "List the users in order to check that it has been correctly created"
   ]
  },
  {
   "cell_type": "markdown",
   "metadata": {
    "id": "6Avk-V-EZVkD"
   },
   "source": [
    "Let's upload the dataset that the Owner will upload to the domain. In this case we are using the diabetes dataset, taken from the Kaggle competition \n",
    "https://www.kaggle.com/mathchi/diabetes-data-set\n"
   ]
  },
  {
   "cell_type": "code",
   "execution_count": 7,
   "metadata": {
    "colab": {
     "base_uri": "https://localhost:8080/"
    },
    "id": "etUU8ISBuTt-",
    "outputId": "a5a254f9-5fb6-4cfc-da03-4b130eeac34a"
   },
   "outputs": [
    {
     "name": "stdout",
     "output_type": "stream",
     "text": [
      "Drive already mounted at /content/drive; to attempt to forcibly remount, call drive.mount(\"/content/drive\", force_remount=True).\n"
     ]
    }
   ],
   "source": [
    "from google.colab import drive\n",
    "drive.mount('/content/drive')"
   ]
  },
  {
   "cell_type": "markdown",
   "metadata": {
    "id": "b43xh3NsZYXP"
   },
   "source": [
    "Let's see what information has this dataset "
   ]
  },
  {
   "cell_type": "code",
   "execution_count": 8,
   "metadata": {
    "colab": {
     "base_uri": "https://localhost:8080/",
     "height": 424
    },
    "id": "BqfB8KKCuv6J",
    "outputId": "01360e1c-dfb0-4f49-c225-2ce8c9cb306e"
   },
   "outputs": [
    {
     "data": {
      "text/html": [
       "\n",
       "  <div id=\"df-557ae0dd-ef6b-4ed1-8fe1-8ca4220a4fa4\">\n",
       "    <div class=\"colab-df-container\">\n",
       "      <div>\n",
       "<style scoped>\n",
       "    .dataframe tbody tr th:only-of-type {\n",
       "        vertical-align: middle;\n",
       "    }\n",
       "\n",
       "    .dataframe tbody tr th {\n",
       "        vertical-align: top;\n",
       "    }\n",
       "\n",
       "    .dataframe thead th {\n",
       "        text-align: right;\n",
       "    }\n",
       "</style>\n",
       "<table border=\"1\" class=\"dataframe\">\n",
       "  <thead>\n",
       "    <tr style=\"text-align: right;\">\n",
       "      <th></th>\n",
       "      <th>Pregnancies</th>\n",
       "      <th>Glucose</th>\n",
       "      <th>BloodPressure</th>\n",
       "      <th>SkinThickness</th>\n",
       "      <th>Insulin</th>\n",
       "      <th>BMI</th>\n",
       "      <th>DiabetesPedigreeFunction</th>\n",
       "      <th>Age</th>\n",
       "    </tr>\n",
       "  </thead>\n",
       "  <tbody>\n",
       "    <tr>\n",
       "      <th>537</th>\n",
       "      <td>0</td>\n",
       "      <td>57</td>\n",
       "      <td>60</td>\n",
       "      <td>0</td>\n",
       "      <td>0</td>\n",
       "      <td>21.7</td>\n",
       "      <td>0.735</td>\n",
       "      <td>67</td>\n",
       "    </tr>\n",
       "    <tr>\n",
       "      <th>538</th>\n",
       "      <td>0</td>\n",
       "      <td>127</td>\n",
       "      <td>80</td>\n",
       "      <td>37</td>\n",
       "      <td>210</td>\n",
       "      <td>36.3</td>\n",
       "      <td>0.804</td>\n",
       "      <td>23</td>\n",
       "    </tr>\n",
       "    <tr>\n",
       "      <th>539</th>\n",
       "      <td>3</td>\n",
       "      <td>129</td>\n",
       "      <td>92</td>\n",
       "      <td>49</td>\n",
       "      <td>155</td>\n",
       "      <td>36.4</td>\n",
       "      <td>0.968</td>\n",
       "      <td>32</td>\n",
       "    </tr>\n",
       "    <tr>\n",
       "      <th>540</th>\n",
       "      <td>8</td>\n",
       "      <td>100</td>\n",
       "      <td>74</td>\n",
       "      <td>40</td>\n",
       "      <td>215</td>\n",
       "      <td>39.4</td>\n",
       "      <td>0.661</td>\n",
       "      <td>43</td>\n",
       "    </tr>\n",
       "    <tr>\n",
       "      <th>541</th>\n",
       "      <td>3</td>\n",
       "      <td>128</td>\n",
       "      <td>72</td>\n",
       "      <td>25</td>\n",
       "      <td>190</td>\n",
       "      <td>32.4</td>\n",
       "      <td>0.549</td>\n",
       "      <td>27</td>\n",
       "    </tr>\n",
       "    <tr>\n",
       "      <th>...</th>\n",
       "      <td>...</td>\n",
       "      <td>...</td>\n",
       "      <td>...</td>\n",
       "      <td>...</td>\n",
       "      <td>...</td>\n",
       "      <td>...</td>\n",
       "      <td>...</td>\n",
       "      <td>...</td>\n",
       "    </tr>\n",
       "    <tr>\n",
       "      <th>763</th>\n",
       "      <td>10</td>\n",
       "      <td>101</td>\n",
       "      <td>76</td>\n",
       "      <td>48</td>\n",
       "      <td>180</td>\n",
       "      <td>32.9</td>\n",
       "      <td>0.171</td>\n",
       "      <td>63</td>\n",
       "    </tr>\n",
       "    <tr>\n",
       "      <th>764</th>\n",
       "      <td>2</td>\n",
       "      <td>122</td>\n",
       "      <td>70</td>\n",
       "      <td>27</td>\n",
       "      <td>0</td>\n",
       "      <td>36.8</td>\n",
       "      <td>0.340</td>\n",
       "      <td>27</td>\n",
       "    </tr>\n",
       "    <tr>\n",
       "      <th>765</th>\n",
       "      <td>5</td>\n",
       "      <td>121</td>\n",
       "      <td>72</td>\n",
       "      <td>23</td>\n",
       "      <td>112</td>\n",
       "      <td>26.2</td>\n",
       "      <td>0.245</td>\n",
       "      <td>30</td>\n",
       "    </tr>\n",
       "    <tr>\n",
       "      <th>766</th>\n",
       "      <td>1</td>\n",
       "      <td>126</td>\n",
       "      <td>60</td>\n",
       "      <td>0</td>\n",
       "      <td>0</td>\n",
       "      <td>30.1</td>\n",
       "      <td>0.349</td>\n",
       "      <td>47</td>\n",
       "    </tr>\n",
       "    <tr>\n",
       "      <th>767</th>\n",
       "      <td>1</td>\n",
       "      <td>93</td>\n",
       "      <td>70</td>\n",
       "      <td>31</td>\n",
       "      <td>0</td>\n",
       "      <td>30.4</td>\n",
       "      <td>0.315</td>\n",
       "      <td>23</td>\n",
       "    </tr>\n",
       "  </tbody>\n",
       "</table>\n",
       "<p>231 rows × 8 columns</p>\n",
       "</div>\n",
       "      <button class=\"colab-df-convert\" onclick=\"convertToInteractive('df-557ae0dd-ef6b-4ed1-8fe1-8ca4220a4fa4')\"\n",
       "              title=\"Convert this dataframe to an interactive table.\"\n",
       "              style=\"display:none;\">\n",
       "        \n",
       "  <svg xmlns=\"http://www.w3.org/2000/svg\" height=\"24px\"viewBox=\"0 0 24 24\"\n",
       "       width=\"24px\">\n",
       "    <path d=\"M0 0h24v24H0V0z\" fill=\"none\"/>\n",
       "    <path d=\"M18.56 5.44l.94 2.06.94-2.06 2.06-.94-2.06-.94-.94-2.06-.94 2.06-2.06.94zm-11 1L8.5 8.5l.94-2.06 2.06-.94-2.06-.94L8.5 2.5l-.94 2.06-2.06.94zm10 10l.94 2.06.94-2.06 2.06-.94-2.06-.94-.94-2.06-.94 2.06-2.06.94z\"/><path d=\"M17.41 7.96l-1.37-1.37c-.4-.4-.92-.59-1.43-.59-.52 0-1.04.2-1.43.59L10.3 9.45l-7.72 7.72c-.78.78-.78 2.05 0 2.83L4 21.41c.39.39.9.59 1.41.59.51 0 1.02-.2 1.41-.59l7.78-7.78 2.81-2.81c.8-.78.8-2.07 0-2.86zM5.41 20L4 18.59l7.72-7.72 1.47 1.35L5.41 20z\"/>\n",
       "  </svg>\n",
       "      </button>\n",
       "      \n",
       "  <style>\n",
       "    .colab-df-container {\n",
       "      display:flex;\n",
       "      flex-wrap:wrap;\n",
       "      gap: 12px;\n",
       "    }\n",
       "\n",
       "    .colab-df-convert {\n",
       "      background-color: #E8F0FE;\n",
       "      border: none;\n",
       "      border-radius: 50%;\n",
       "      cursor: pointer;\n",
       "      display: none;\n",
       "      fill: #1967D2;\n",
       "      height: 32px;\n",
       "      padding: 0 0 0 0;\n",
       "      width: 32px;\n",
       "    }\n",
       "\n",
       "    .colab-df-convert:hover {\n",
       "      background-color: #E2EBFA;\n",
       "      box-shadow: 0px 1px 2px rgba(60, 64, 67, 0.3), 0px 1px 3px 1px rgba(60, 64, 67, 0.15);\n",
       "      fill: #174EA6;\n",
       "    }\n",
       "\n",
       "    [theme=dark] .colab-df-convert {\n",
       "      background-color: #3B4455;\n",
       "      fill: #D2E3FC;\n",
       "    }\n",
       "\n",
       "    [theme=dark] .colab-df-convert:hover {\n",
       "      background-color: #434B5C;\n",
       "      box-shadow: 0px 1px 3px 1px rgba(0, 0, 0, 0.15);\n",
       "      filter: drop-shadow(0px 1px 2px rgba(0, 0, 0, 0.3));\n",
       "      fill: #FFFFFF;\n",
       "    }\n",
       "  </style>\n",
       "\n",
       "      <script>\n",
       "        const buttonEl =\n",
       "          document.querySelector('#df-557ae0dd-ef6b-4ed1-8fe1-8ca4220a4fa4 button.colab-df-convert');\n",
       "        buttonEl.style.display =\n",
       "          google.colab.kernel.accessAllowed ? 'block' : 'none';\n",
       "\n",
       "        async function convertToInteractive(key) {\n",
       "          const element = document.querySelector('#df-557ae0dd-ef6b-4ed1-8fe1-8ca4220a4fa4');\n",
       "          const dataTable =\n",
       "            await google.colab.kernel.invokeFunction('convertToInteractive',\n",
       "                                                     [key], {});\n",
       "          if (!dataTable) return;\n",
       "\n",
       "          const docLinkHtml = 'Like what you see? Visit the ' +\n",
       "            '<a target=\"_blank\" href=https://colab.research.google.com/notebooks/data_table.ipynb>data table notebook</a>'\n",
       "            + ' to learn more about interactive tables.';\n",
       "          element.innerHTML = '';\n",
       "          dataTable['output_type'] = 'display_data';\n",
       "          await google.colab.output.renderOutput(dataTable, element);\n",
       "          const docLink = document.createElement('div');\n",
       "          docLink.innerHTML = docLinkHtml;\n",
       "          element.appendChild(docLink);\n",
       "        }\n",
       "      </script>\n",
       "    </div>\n",
       "  </div>\n",
       "  "
      ],
      "text/plain": [
       "     Pregnancies  Glucose  BloodPressure  SkinThickness  Insulin   BMI  \\\n",
       "537            0       57             60              0        0  21.7   \n",
       "538            0      127             80             37      210  36.3   \n",
       "539            3      129             92             49      155  36.4   \n",
       "540            8      100             74             40      215  39.4   \n",
       "541            3      128             72             25      190  32.4   \n",
       "..           ...      ...            ...            ...      ...   ...   \n",
       "763           10      101             76             48      180  32.9   \n",
       "764            2      122             70             27        0  36.8   \n",
       "765            5      121             72             23      112  26.2   \n",
       "766            1      126             60              0        0  30.1   \n",
       "767            1       93             70             31        0  30.4   \n",
       "\n",
       "     DiabetesPedigreeFunction  Age  \n",
       "537                     0.735   67  \n",
       "538                     0.804   23  \n",
       "539                     0.968   32  \n",
       "540                     0.661   43  \n",
       "541                     0.549   27  \n",
       "..                        ...  ...  \n",
       "763                     0.171   63  \n",
       "764                     0.340   27  \n",
       "765                     0.245   30  \n",
       "766                     0.349   47  \n",
       "767                     0.315   23  \n",
       "\n",
       "[231 rows x 8 columns]"
      ]
     },
     "execution_count": 8,
     "metadata": {},
     "output_type": "execute_result"
    }
   ],
   "source": [
    "df = pd.read_csv('/content/drive/MyDrive/df_consultas.csv', index_col=0 )\n",
    "df"
   ]
  },
  {
   "cell_type": "markdown",
   "metadata": {
    "id": "q7C_FK0lZrdq"
   },
   "source": [
    "Transform to syft Tensor the dataframe "
   ]
  },
  {
   "cell_type": "code",
   "execution_count": 9,
   "metadata": {
    "id": "Dx2p_n9Rvikf"
   },
   "outputs": [],
   "source": [
    "data_tensors_consultas = sy.Tensor(df.values.astype(np.int32))"
   ]
  },
  {
   "cell_type": "markdown",
   "metadata": {
    "id": "gRLs3jzWZycz"
   },
   "source": [
    "Check the min and max values "
   ]
  },
  {
   "cell_type": "code",
   "execution_count": 10,
   "metadata": {
    "colab": {
     "base_uri": "https://localhost:8080/"
    },
    "id": "IsCOE_obwLjN",
    "outputId": "c1cd9069-5847-489b-c4f6-41fce03c5f69"
   },
   "outputs": [
    {
     "data": {
      "text/plain": [
       "(Pregnancies                  0.000\n",
       " Glucose                     56.000\n",
       " BloodPressure                0.000\n",
       " SkinThickness                0.000\n",
       " Insulin                      0.000\n",
       " BMI                          0.000\n",
       " DiabetesPedigreeFunction     0.085\n",
       " Age                         21.000\n",
       " dtype: float64, Pregnancies                  13.000\n",
       " Glucose                     199.000\n",
       " BloodPressure               114.000\n",
       " SkinThickness                99.000\n",
       " Insulin                     600.000\n",
       " BMI                          57.300\n",
       " DiabetesPedigreeFunction      1.699\n",
       " Age                          70.000\n",
       " dtype: float64)"
      ]
     },
     "execution_count": 10,
     "metadata": {},
     "output_type": "execute_result"
    }
   ],
   "source": [
    "df.min(), df.max()"
   ]
  },
  {
   "cell_type": "code",
   "execution_count": 11,
   "metadata": {
    "colab": {
     "base_uri": "https://localhost:8080/"
    },
    "id": "ny2zmETg9nc_",
    "outputId": "6c9c4faf-1d05-456b-af86-7f122dd04755"
   },
   "outputs": [
    {
     "data": {
      "text/plain": [
       "600.0"
      ]
     },
     "execution_count": 11,
     "metadata": {},
     "output_type": "execute_result"
    }
   ],
   "source": [
    "max = max(df.max())\n",
    "max"
   ]
  },
  {
   "cell_type": "code",
   "execution_count": 12,
   "metadata": {
    "colab": {
     "base_uri": "https://localhost:8080/"
    },
    "id": "FX0ehXY39KAQ",
    "outputId": "157839a6-daf3-4400-8be6-698cdc8535f1"
   },
   "outputs": [
    {
     "data": {
      "text/plain": [
       "0.0"
      ]
     },
     "execution_count": 12,
     "metadata": {},
     "output_type": "execute_result"
    }
   ],
   "source": [
    "min = min(df.min())\n",
    "min"
   ]
  },
  {
   "cell_type": "markdown",
   "metadata": {
    "id": "Q6HKRut9aDnD"
   },
   "source": [
    "Make private the tensor data "
   ]
  },
  {
   "cell_type": "code",
   "execution_count": 14,
   "metadata": {
    "colab": {
     "base_uri": "https://localhost:8080/"
    },
    "id": "E1z4-HG2-F6h",
    "outputId": "c7dd80c6-2b5d-41cc-b9e0-ca9534c31d05"
   },
   "outputs": [
    {
     "name": "stdout",
     "output_type": "stream",
     "text": [
      "(231, 8)\n"
     ]
    }
   ],
   "source": [
    "print(data_tensors_consultas.shape)\n",
    "private_data_tensors_consultas = data_tensors_consultas.private(min_val=min, max_val=max, entities=[str(s) for s in range(data_tensors_consultas.shape[0])])"
   ]
  },
  {
   "cell_type": "markdown",
   "metadata": {
    "id": "4wPI53uTcZ0f"
   },
   "source": [
    "Upload the dataset to the domian "
   ]
  },
  {
   "cell_type": "code",
   "execution_count": 17,
   "metadata": {
    "colab": {
     "base_uri": "https://localhost:8080/"
    },
    "id": "Y5TAigZkw66s",
    "outputId": "7e8f5741-cae8-4d57-d247-b40221c9911c"
   },
   "outputs": [
    {
     "name": "stdout",
     "output_type": "stream",
     "text": [
      "Loading dataset... uploading... SUCCESS!                        \n",
      "\n",
      "Run <your client variable>.datasets to see your new dataset loaded into your machine!\n"
     ]
    }
   ],
   "source": [
    "domain.load_dataset(\n",
    "    assets={\"data\": private_data_tensors_consultas},\n",
    "    name=\"diabetes_consultas\",\n",
    "    description=\"Diabetes_Consultas\"\n",
    ")\n",
    "\n"
   ]
  },
  {
   "cell_type": "markdown",
   "metadata": {
    "id": "xw0kxbeUcj_j"
   },
   "source": [
    "List the datasets for the domain"
   ]
  },
  {
   "cell_type": "code",
   "execution_count": 18,
   "metadata": {
    "colab": {
     "base_uri": "https://localhost:8080/",
     "height": 111
    },
    "id": "uda-qu0lw8NO",
    "outputId": "3f3bc7fa-cceb-4359-c7a0-dd455eaa2e04"
   },
   "outputs": [
    {
     "data": {
      "text/html": [
       "<style>\n",
       "                #myInput {\n",
       "                  background-position: 10px 12px; /* Position the search icon */\n",
       "                  background-repeat: no-repeat; /* Do not repeat the icon image */\n",
       "                  background-color: #bbb;\n",
       "                  width: 98%; /* Full-width */\n",
       "                  font-size: 14px; /* Increase font-size */\n",
       "                  padding: 12px 20px 12px 40px; /* Add some padding */\n",
       "                  border: 1px solid #ddd; /* Add a grey border */\n",
       "                  margin-bottom: 12px; /* Add some space below the input */\n",
       "                }\n",
       "\n",
       "                #myTable {\n",
       "                  border-collapse: collapse; /* Collapse borders */\n",
       "                  width: 100%; /* Full-width */\n",
       "                  border: 1px solid #ddd; /* Add a grey border */\n",
       "                  font-size: 14px; /* Increase font-size */\n",
       "                }\n",
       "\n",
       "                #myTable th, #myTable td {\n",
       "                  text-align: left; /* Left-align text */\n",
       "                  padding: 10px; /* Add padding */\n",
       "                }\n",
       "\n",
       "                #myTable tr {\n",
       "                  /* Add a bottom border to all table rows */\n",
       "                  border-bottom: 1px solid #ddd;\n",
       "                }\n",
       "\n",
       "                #myTable tr.header, #myTable tr:hover {\n",
       "                  /* Add a grey background color to the table header and on hover */\n",
       "                  background-color: #777;\n",
       "                }\n",
       "                </style>\n",
       "\n",
       "                <table id=\"myTable\" style=\"width:1000px\">\n",
       "                  <tr class=\"header\">\n",
       "                    <th style=\"width:30px\">Idx</th>\n",
       "                    <th style=\"width:20%;\">Name</th>\n",
       "                    <th style=\"width:35%;\">Description</th>\n",
       "                    <th style=\"width:20%;\">Assets</th>\n",
       "                    <th style=\"width:300px;\">Id</th>\n",
       "                  </tr>\n",
       "                \n",
       "\n",
       "          <tr>\n",
       "            <td>[0]</td>\n",
       "            <td>diabetes_consultas</td>\n",
       "            <td>Diabetes_Consultas</td>\n",
       "            <td>[\"data\"] -> Tensor<br /><br /></td>\n",
       "            <td>91ef9c35-f706-4ee9-a404-41fe11a4a768</td>\n",
       "          </tr>\n",
       "        </table>\n",
       "\n",
       "        <script>\n",
       "        function myFunction() {\n",
       "          // Declare variables\n",
       "          var input, filter, table, tr, td, i, txtValue;\n",
       "          input = document.getElementById(\"myInput\");\n",
       "          filter = input.value.toUpperCase();\n",
       "          table = document.getElementById(\"myTable\");\n",
       "          tr = table.getElementsByTagName(\"tr\");\n",
       "\n",
       "          // Loop through all table rows, and hide those who don't match the search query\n",
       "          for (i = 0; i < tr.length; i++) {\n",
       "            name_td = tr[i].getElementsByTagName(\"td\")[1];\n",
       "            desc_td = tr[i].getElementsByTagName(\"td\")[2];\n",
       "            asset_td = tr[i].getElementsByTagName(\"td\")[3];\n",
       "            id_td = tr[i].getElementsByTagName(\"td\")[4];\n",
       "            if (name_td || desc_td || asset_td || id_td) {\n",
       "              name_txtValue = name_td.textContent || name_td.innerText;\n",
       "              desc_txtValue = desc_td.textContent || name_td.innerText;\n",
       "              asset_txtValue = asset_td.textContent || name_td.innerText;\n",
       "              id_txtValue = id_td.textContent || name_td.innerText;\n",
       "              name_bool = name_txtValue.toUpperCase().indexOf(filter) > -1;\n",
       "              desc_bool = desc_txtValue.toUpperCase().indexOf(filter) > -1;\n",
       "              asset_bool = asset_txtValue.toUpperCase().indexOf(filter) > -1;\n",
       "              id_bool = id_txtValue.toUpperCase().indexOf(filter) > -1;\n",
       "              if (name_bool || desc_bool || asset_bool || id_bool) {\n",
       "                tr[i].style.display = \"\";\n",
       "              } else {\n",
       "                tr[i].style.display = \"none\";\n",
       "              }\n",
       "            }\n",
       "          }\n",
       "        }\n",
       "        </script>"
      ],
      "text/plain": [
       "<syft.core.node.common.client_manager.dataset_api.DatasetRequestAPI at 0x7fb6fc4aea10>"
      ]
     },
     "execution_count": 18,
     "metadata": {},
     "output_type": "execute_result"
    }
   ],
   "source": [
    "domain.datasets"
   ]
  },
  {
   "cell_type": "markdown",
   "metadata": {
    "id": "0HoAUGZecrsQ"
   },
   "source": [
    "Check the requests made by the Data Scientist"
   ]
  },
  {
   "cell_type": "code",
   "execution_count": 20,
   "metadata": {
    "colab": {
     "base_uri": "https://localhost:8080/",
     "height": 150
    },
    "id": "9ZsyTHMa3GSC",
    "outputId": "af5e5579-52e3-4327-b89c-366ce7c8cf7a"
   },
   "outputs": [
    {
     "data": {
      "text/html": [
       "<div>\n",
       "<style scoped>\n",
       "    .dataframe tbody tr th:only-of-type {\n",
       "        vertical-align: middle;\n",
       "    }\n",
       "\n",
       "    .dataframe tbody tr th {\n",
       "        vertical-align: top;\n",
       "    }\n",
       "\n",
       "    .dataframe thead th {\n",
       "        text-align: right;\n",
       "    }\n",
       "</style>\n",
       "<table border=\"1\" class=\"dataframe\">\n",
       "  <thead>\n",
       "    <tr style=\"text-align: right;\">\n",
       "      <th></th>\n",
       "      <th>Name</th>\n",
       "      <th>Email</th>\n",
       "      <th>Role</th>\n",
       "      <th>Request Type</th>\n",
       "      <th>Status</th>\n",
       "      <th>Reason</th>\n",
       "      <th>Request ID</th>\n",
       "      <th>Requested Object's ID</th>\n",
       "      <th>Requested Object's tags</th>\n",
       "      <th>Requested Budget</th>\n",
       "      <th>Current Budget</th>\n",
       "    </tr>\n",
       "  </thead>\n",
       "  <tbody>\n",
       "    <tr>\n",
       "      <th>0</th>\n",
       "      <td>TCS</td>\n",
       "      <td>szanottag@gmail.com</td>\n",
       "      <td>Data Scientist</td>\n",
       "      <td>DATA</td>\n",
       "      <td>pending</td>\n",
       "      <td>Para salvar la tesis</td>\n",
       "      <td>&lt;UID: 4a5f513439154d91a1093651db2ea51d&gt;</td>\n",
       "      <td>&lt;UID: 0188a01ab220455f93c75b1eb82ce0c6&gt;</td>\n",
       "      <td>[#data]</td>\n",
       "      <td>None</td>\n",
       "      <td>None</td>\n",
       "    </tr>\n",
       "  </tbody>\n",
       "</table>\n",
       "</div>"
      ],
      "text/plain": [
       "[<RequestMessage: 4a5f513439154d91a1093651db2ea51d>]"
      ]
     },
     "execution_count": 20,
     "metadata": {},
     "output_type": "execute_result"
    }
   ],
   "source": [
    "domain.requests"
   ]
  },
  {
   "cell_type": "markdown",
   "metadata": {
    "id": "TjuG6Gfsdrt6"
   },
   "source": [
    "Approve the request by the id "
   ]
  },
  {
   "cell_type": "code",
   "execution_count": 21,
   "metadata": {
    "id": "J2xPBQWP7CRr"
   },
   "outputs": [],
   "source": [
    "domain.requests[0].approve()"
   ]
  },
  {
   "cell_type": "code",
   "execution_count": 22,
   "metadata": {
    "colab": {
     "base_uri": "https://localhost:8080/",
     "height": 170
    },
    "id": "k3b8tEgf7Nr0",
    "outputId": "fd457871-a55a-4420-9b8c-c7ba763ba044"
   },
   "outputs": [
    {
     "data": {
      "text/html": [
       "<div>\n",
       "<style scoped>\n",
       "    .dataframe tbody tr th:only-of-type {\n",
       "        vertical-align: middle;\n",
       "    }\n",
       "\n",
       "    .dataframe tbody tr th {\n",
       "        vertical-align: top;\n",
       "    }\n",
       "\n",
       "    .dataframe thead th {\n",
       "        text-align: right;\n",
       "    }\n",
       "</style>\n",
       "<table border=\"1\" class=\"dataframe\">\n",
       "  <thead>\n",
       "    <tr style=\"text-align: right;\">\n",
       "      <th></th>\n",
       "      <th>Name</th>\n",
       "      <th>Email</th>\n",
       "      <th>Role</th>\n",
       "      <th>Request Type</th>\n",
       "      <th>Status</th>\n",
       "      <th>Reason</th>\n",
       "      <th>Request ID</th>\n",
       "      <th>Requested Object's ID</th>\n",
       "      <th>Requested Object's tags</th>\n",
       "      <th>Requested Budget</th>\n",
       "      <th>Current Budget</th>\n",
       "    </tr>\n",
       "  </thead>\n",
       "  <tbody>\n",
       "    <tr>\n",
       "      <th>0</th>\n",
       "      <td>TCS</td>\n",
       "      <td>szanottag@gmail.com</td>\n",
       "      <td>Data Scientist</td>\n",
       "      <td>DATA</td>\n",
       "      <td>accepted</td>\n",
       "      <td>Para salvar la tesis</td>\n",
       "      <td>&lt;UID: 4a5f513439154d91a1093651db2ea51d&gt;</td>\n",
       "      <td>&lt;UID: 0188a01ab220455f93c75b1eb82ce0c6&gt;</td>\n",
       "      <td>[#data]</td>\n",
       "      <td>None</td>\n",
       "      <td>None</td>\n",
       "    </tr>\n",
       "  </tbody>\n",
       "</table>\n",
       "</div>"
      ],
      "text/plain": [
       "[<RequestMessage: 4a5f513439154d91a1093651db2ea51d>]"
      ]
     },
     "execution_count": 22,
     "metadata": {},
     "output_type": "execute_result"
    }
   ],
   "source": [
    "domain.requests"
   ]
  }
 ],
 "metadata": {
  "colab": {
   "collapsed_sections": [],
   "name": "DataOwner_13_3.ipynb",
   "provenance": []
  },
  "kernelspec": {
   "display_name": "Python 3 (ipykernel)",
   "language": "python",
   "name": "python3"
  },
  "language_info": {
   "codemirror_mode": {
    "name": "ipython",
    "version": 3
   },
   "file_extension": ".py",
   "mimetype": "text/x-python",
   "name": "python",
   "nbconvert_exporter": "python",
   "pygments_lexer": "ipython3",
   "version": "3.9.7"
  }
 },
 "nbformat": 4,
 "nbformat_minor": 1
}
